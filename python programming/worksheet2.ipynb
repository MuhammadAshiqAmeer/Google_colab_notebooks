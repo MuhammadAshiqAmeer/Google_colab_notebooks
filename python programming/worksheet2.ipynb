{
  "nbformat": 4,
  "nbformat_minor": 5,
  "metadata": {
    "kernelspec": {
      "display_name": "Python 3",
      "language": "python",
      "name": "python3"
    },
    "language_info": {
      "codemirror_mode": {
        "name": "ipython",
        "version": 3
      },
      "file_extension": ".py",
      "mimetype": "text/x-python",
      "name": "python",
      "nbconvert_exporter": "python",
      "pygments_lexer": "ipython3",
      "version": "3.7.9"
    },
    "colab": {
      "name": "Programming_Practice_05_11_21.ipynb",
      "provenance": [],
      "collapsed_sections": []
    }
  },
  "cells": [
    {
      "cell_type": "markdown",
      "metadata": {
        "id": "99d3b22e"
      },
      "source": [
        "# List \n",
        " The most basic data structure in Python is the sequence.<br>\n",
        "Each element of a sequence is assigned a number - its position or index. The indexing starts from 0."
      ],
      "id": "99d3b22e"
    },
    {
      "cell_type": "code",
      "metadata": {
        "id": "0380229a"
      },
      "source": [
        "list1 = ['physics', 'chemistry', 1997, 2000]\n",
        "list2 = [1, 2, 3, 4, 5 ]\n",
        "list3 = [\"a\", \"b\", \"c\", \"d\"]"
      ],
      "id": "0380229a",
      "execution_count": null,
      "outputs": []
    },
    {
      "cell_type": "code",
      "metadata": {
        "id": "4bcc75ed"
      },
      "source": [
        "# Accessing Values in Lists\n",
        "print(\"list1[0]: \", list1[0])\n",
        "print(\"list2[1:5]: \", list2[1:5])\n",
        "print()\n",
        "print(\"Accessing the last element of list1: \",list1[-1])"
      ],
      "id": "4bcc75ed",
      "execution_count": null,
      "outputs": []
    },
    {
      "cell_type": "code",
      "metadata": {
        "id": "05c3e957"
      },
      "source": [
        "# Updating the list\n",
        "list1[3]=3000\n",
        "print(\"Updated list\",list1)\n",
        "# Append New element to list\n",
        "list1.append(1)\n",
        "print(\"List after appending new item\",list1)"
      ],
      "id": "05c3e957",
      "execution_count": null,
      "outputs": []
    },
    {
      "cell_type": "code",
      "metadata": {
        "id": "59127d2a"
      },
      "source": [
        "# Deleting Elements from List\n",
        "del list1[0]\n",
        "print(list1)"
      ],
      "id": "59127d2a",
      "execution_count": null,
      "outputs": []
    },
    {
      "cell_type": "markdown",
      "metadata": {
        "id": "53c17cd2"
      },
      "source": [
        "<table class=\"table table-bordered\">\n",
        "<tbody><tr>\n",
        "<th style=\"text-align:center;\">Function with Description</th>\n",
        "</tr>\n",
        "<tr>\n",
        "<td>cmp(list1, list2)\n",
        "<p>Compares elements of both lists.</p></td>\n",
        "</tr>\n",
        "<tr>\n",
        "<td>len(list)\n",
        "<p>Gives the total length of the list.</p></td>\n",
        "</tr>\n",
        "<tr>\n",
        "<td>max(list)\n",
        "<p>Returns item from the list with max value.</p></td>\n",
        "</tr>\n",
        "<tr>\n",
        "<td>min(list)\n",
        "<p>Returns item from the list with min value.</p></td>\n",
        "</tr>\n",
        "<tr>\n",
        "<td>list(seq)\n",
        "<p>Converts a tuple into list.</p></td>\n",
        "</tr>\n",
        "</tbody></table>"
      ],
      "id": "53c17cd2"
    },
    {
      "cell_type": "markdown",
      "metadata": {
        "id": "dd41ff84"
      },
      "source": [
        "<table class=\"table table-bordered\">\n",
        "<tbody><tr>\n",
        "<th style=\"text-align:center;width:100%\">Methods with Description</th>\n",
        "</tr>\n",
        "<tr>\n",
        "<td>list.append(obj)\n",
        "<p>Appends object obj to list</p></td>\n",
        "</tr>\n",
        "<tr>\n",
        "<td>list.count(obj)\n",
        "<p>Returns count of how many times obj occurs in list</p></td>\n",
        "</tr>\n",
        "<tr>\n",
        "<td>list.extend(seq)\n",
        "<p>Appends the contents of seq to list</p></td>\n",
        "</tr>\n",
        "<tr>\n",
        "<td>list.index(obj)\n",
        "<p>Returns the lowest index in list that obj appears</p></td>\n",
        "</tr>\n",
        "<tr>\n",
        "<td>list.insert(index, obj)\n",
        "<p>Inserts object obj into list at offset index</p></td>\n",
        "</tr>\n",
        "<tr>\n",
        "<td>list.pop(obj=list[-1])\n",
        "<p>Removes and returns last object or obj from list</p></td>\n",
        "</tr>\n",
        "<tr>\n",
        "<td>list.remove(obj)\n",
        "<p>Removes object obj from list</p></td>\n",
        "</tr>\n",
        "<tr>\n",
        "<td>list.reverse()\n",
        "<p>Reverses objects of list in place</p></td>\n",
        "</tr>\n",
        "<tr>\n",
        "<td>list.sort([func])\n",
        "<p>Sorts objects of list, use compare func if given</p></td>\n",
        "</tr>\n",
        "</tbody></table>"
      ],
      "id": "dd41ff84"
    },
    {
      "cell_type": "markdown",
      "metadata": {
        "id": "16517b23"
      },
      "source": [
        "# Questions "
      ],
      "id": "16517b23"
    },
    {
      "cell_type": "markdown",
      "metadata": {
        "id": "f3ae52c0"
      },
      "source": [
        "1. Program to find the sum of elements and sum of square of n numbers in a list"
      ],
      "id": "f3ae52c0"
    },
    {
      "cell_type": "code",
      "metadata": {
        "id": "6dda4881",
        "colab": {
          "base_uri": "https://localhost:8080/"
        },
        "outputId": "9e687585-db70-418d-f65c-19b6e9dfaa21"
      },
      "source": [
        "# Answer 1\n",
        "listt=input(\"Enter list elements: \").split()\n",
        "sum=0\n",
        "sq=0\n",
        "for i in range(0,len(listt)):\n",
        "  sum+=int(listt[i])\n",
        "  sq+=pow(int(listt[i]),2)\n",
        "print(f\"Sum= {sum}\")\n",
        "print(f\"sum of squares= {sq}\")"
      ],
      "id": "6dda4881",
      "execution_count": null,
      "outputs": [
        {
          "output_type": "stream",
          "name": "stdout",
          "text": [
            "Enter list elements: 1 2 3 4\n",
            "Sum= 10\n",
            "sum of squares= 30\n"
          ]
        }
      ]
    },
    {
      "cell_type": "markdown",
      "metadata": {
        "id": "eaa9c49f"
      },
      "source": [
        "2. Python Program to find largest element in an array and also second largest number"
      ],
      "id": "eaa9c49f"
    },
    {
      "cell_type": "code",
      "metadata": {
        "id": "d8aac023",
        "colab": {
          "base_uri": "https://localhost:8080/"
        },
        "outputId": "5c6a6a15-8ffe-4a5f-a7e0-fce191694cc7"
      },
      "source": [
        "# Answer 2\n",
        "listt=input(\"Enter list elements: \").split()\n",
        "listt.sort()\n",
        "print(f\"Largest : {listt[-1]}\")\n",
        "print(f\"Second largest : {listt[-2]}\")"
      ],
      "id": "d8aac023",
      "execution_count": null,
      "outputs": [
        {
          "output_type": "stream",
          "name": "stdout",
          "text": [
            "Enter list elements: 5 3 4 7 6\n",
            "Largest : 7\n",
            "Second largest : 6\n"
          ]
        }
      ]
    },
    {
      "cell_type": "markdown",
      "metadata": {
        "id": "01dbf479"
      },
      "source": [
        "3. Remove multiple elements from a list in Python"
      ],
      "id": "01dbf479"
    },
    {
      "cell_type": "code",
      "metadata": {
        "id": "865ce403",
        "colab": {
          "base_uri": "https://localhost:8080/"
        },
        "outputId": "7b5af4a8-f620-4825-afda-77724b8593a3"
      },
      "source": [
        "# Answer 3\n",
        "from collections import Counter\n",
        "listt=input(\"Enter list elements: \").split()\n",
        "rem=input(\"Enter elements to remove: \").split()\n",
        "listt = list((Counter(listt) - Counter(rem)).elements())\n",
        "listt"
      ],
      "id": "865ce403",
      "execution_count": null,
      "outputs": [
        {
          "name": "stdout",
          "output_type": "stream",
          "text": [
            "Enter list elements: 1 2 3 4 5\n",
            "Enter elements to remove: 2 5\n"
          ]
        },
        {
          "output_type": "execute_result",
          "data": {
            "text/plain": [
              "['1', '3', '4']"
            ]
          },
          "metadata": {},
          "execution_count": 29
        }
      ]
    },
    {
      "cell_type": "markdown",
      "metadata": {
        "id": "8afa7826"
      },
      "source": [
        "4.  Find the difference of sum of odd number and even number."
      ],
      "id": "8afa7826"
    },
    {
      "cell_type": "code",
      "metadata": {
        "id": "11560892",
        "colab": {
          "base_uri": "https://localhost:8080/"
        },
        "outputId": "d002d883-9d3f-47ee-efd8-64755e671ab0"
      },
      "source": [
        "#Answer\n",
        "listt=input(\"Enter list elements: \").split()\n",
        "odd=[]\n",
        "even=[]\n",
        "for i in range(0,len(listt)):\n",
        "  if int(listt[i])%2==0:\n",
        "    even.append(listt[i])\n",
        "  else:\n",
        "    odd.append(listt[i])\n",
        "for i in range(0,len(even)):\n",
        "  sume+=int(even[i])\n",
        "for i in range(0,len(odd)):\n",
        "  sumo+=int(odd[i])\n",
        "print(f\"difference of sum of odd number and even number : {sumo-sume}\")\n"
      ],
      "id": "11560892",
      "execution_count": null,
      "outputs": [
        {
          "output_type": "stream",
          "name": "stdout",
          "text": [
            "Enter list elements: 1 2 3 4 5 6 7\n",
            "difference of sum of odd number and even number : 5\n"
          ]
        }
      ]
    },
    {
      "cell_type": "markdown",
      "metadata": {
        "id": "3dabcd97"
      },
      "source": [
        "5. Program to reverse a List"
      ],
      "id": "3dabcd97"
    },
    {
      "cell_type": "code",
      "metadata": {
        "id": "f94243f6",
        "colab": {
          "base_uri": "https://localhost:8080/"
        },
        "outputId": "90f05c3f-a16e-4e24-8db3-6c3417b3fa03"
      },
      "source": [
        "#Answer\n",
        "listt=input(\"Enter list elements: \").split()\n",
        "listt.reverse()\n",
        "listt"
      ],
      "id": "f94243f6",
      "execution_count": null,
      "outputs": [
        {
          "name": "stdout",
          "output_type": "stream",
          "text": [
            "Enter list elements: 1 2 3 4 5\n"
          ]
        },
        {
          "output_type": "execute_result",
          "data": {
            "text/plain": [
              "['5', '4', '3', '2', '1']"
            ]
          },
          "metadata": {},
          "execution_count": 39
        }
      ]
    },
    {
      "cell_type": "markdown",
      "metadata": {
        "id": "eb7301e2"
      },
      "source": [
        "6. Write a program to find the frequency of each element in a user input list.\n",
        "\n",
        "        Point To Remember:    Use a dictionary to keep track of count of each element in the list\n",
        "            Dictionary should be like <br>\n",
        "            {  array_element1: count1, array_element2: count2} "
      ],
      "id": "eb7301e2"
    },
    {
      "cell_type": "code",
      "metadata": {
        "id": "f7bcfb0c",
        "colab": {
          "base_uri": "https://localhost:8080/"
        },
        "outputId": "dbb9bf45-2cae-4829-ba8c-9252eff07f87"
      },
      "source": [
        "#Answer\n",
        "from collections import Counter\n",
        "listt=input(\"Enter list elements: \").split()\n",
        "x=dict(Counter(listt))\n",
        "x"
      ],
      "id": "f7bcfb0c",
      "execution_count": null,
      "outputs": [
        {
          "name": "stdout",
          "output_type": "stream",
          "text": [
            "Enter list elements: 1 2 2 3 3 3 4 4 5 5 6\n"
          ]
        },
        {
          "output_type": "execute_result",
          "data": {
            "text/plain": [
              "{'1': 1, '2': 2, '3': 3, '4': 2, '5': 2, '6': 1}"
            ]
          },
          "metadata": {},
          "execution_count": 42
        }
      ]
    },
    {
      "cell_type": "markdown",
      "metadata": {
        "id": "c4a473ab"
      },
      "source": [
        "7. Write a program to find the most occurring element in a user input list. If there are no repeated\n",
        "elements at all , then a message, “No duplication” should be displayed.\n"
      ],
      "id": "c4a473ab"
    },
    {
      "cell_type": "code",
      "metadata": {
        "id": "698e5ae2",
        "colab": {
          "base_uri": "https://localhost:8080/"
        },
        "outputId": "f606ad30-68d9-4442-fe51-a41f1326e856"
      },
      "source": [
        "#Answer\n",
        "from statistics import mode\n",
        "listt=input(\"Enter list elements: \").split()\n",
        "try:\n",
        "  print(f\"most occurring element : {mode(listt)}\")\n",
        "except:\n",
        "  print(\"No duplication\")\n",
        "\n",
        "\n",
        "  "
      ],
      "id": "698e5ae2",
      "execution_count": null,
      "outputs": [
        {
          "output_type": "stream",
          "name": "stdout",
          "text": [
            "Enter list elements: 1 2 3 4 5\n",
            "No duplication\n"
          ]
        }
      ]
    },
    {
      "cell_type": "markdown",
      "metadata": {
        "id": "96725224"
      },
      "source": [
        "8. Write a program to display all the Armstrong numbers present in a list. If no such numbers are\n",
        "present, an appropriate message should be displayed. (Armstrong number is a number that is equal to the sum of cubes of its digits)\n"
      ],
      "id": "96725224"
    },
    {
      "cell_type": "code",
      "metadata": {
        "id": "b6490523",
        "colab": {
          "base_uri": "https://localhost:8080/"
        },
        "outputId": "2d4bb849-b1b6-4c32-ca28-cda16cf26a56"
      },
      "source": [
        "#Answer\n",
        "listt=input(\"Enter list elements: \").split()\n",
        "arm=[]\n",
        "\n",
        "for i in range(0,len(listt)):\n",
        "  sum=0\n",
        "  num=int(listt[i])\n",
        "  temp = num\n",
        "  while temp > 0:\n",
        "    digit = temp % 10\n",
        "    sum += digit ** 3\n",
        "    temp //= 10\n",
        "  if int(listt[i])==sum:\n",
        "    arm.append(listt[i])\n",
        "\n",
        "if len(arm)==0:\n",
        "  print(\"No armstrong numbers are present\")\n",
        "else:\n",
        "  print(f\"armstrong numbers in the list {arm}\")\n",
        "    \n",
        "  \n"
      ],
      "id": "b6490523",
      "execution_count": null,
      "outputs": [
        {
          "output_type": "stream",
          "name": "stdout",
          "text": [
            "Enter list elements: 1 2 3 4 0 153\n",
            "armstrong numbers in the list ['1', '0', '153']\n"
          ]
        }
      ]
    },
    {
      "cell_type": "markdown",
      "metadata": {
        "id": "4e30577b"
      },
      "source": [
        "9. Write a program to accept two lists and print “Overlapped” if they have at least one element in\n",
        "common, otherwise display “separated”.\n",
        "\n",
        "        Logic: Set intersection will be helpful to check whether the 2 list have any elements in common"
      ],
      "id": "4e30577b"
    },
    {
      "cell_type": "code",
      "metadata": {
        "id": "7d0ae66e",
        "colab": {
          "base_uri": "https://localhost:8080/"
        },
        "outputId": "d5d5133d-7ccb-4b49-dd88-5b3b651a9fd1"
      },
      "source": [
        "#Answer\n",
        "x=input(\"Enter list1 elements: \").split()\n",
        "y=input(\"Enter list2 elements: \").split()\n",
        "r=set(x) & set(y)\n",
        "if len(r)==0:\n",
        "  print(\"Seperated\")\n",
        "else:\n",
        "  print(\"Overlapped\")"
      ],
      "id": "7d0ae66e",
      "execution_count": null,
      "outputs": [
        {
          "output_type": "stream",
          "name": "stdout",
          "text": [
            "Enter list1 elements: 1 2 3 4 5\n",
            "Enter list2 elements: 4 5 6 7 8\n",
            "Overlapped\n"
          ]
        }
      ]
    },
    {
      "cell_type": "markdown",
      "metadata": {
        "id": "3f816aca"
      },
      "source": [
        "10. Write a program to accept a list and rearrange the elements in such a way that all the even\n",
        "elements appear on the left side of the new list and odd elements in the right side as follows:\n",
        "If the user input list is [1,20,3,4,5,6]\n",
        "Then the new list should be [20,4,6,5,3,1]\n",
        "\n",
        "    Point to remember:\n",
        "        Create 2 lists one for odd and other for even\n",
        "        Append both the list"
      ],
      "id": "3f816aca"
    },
    {
      "cell_type": "code",
      "metadata": {
        "id": "61bb3625",
        "colab": {
          "base_uri": "https://localhost:8080/"
        },
        "outputId": "457d470f-5402-40a3-a6d8-8c314dcf2831"
      },
      "source": [
        "#Answer\n",
        "listt=input(\"Enter list elements: \").split()\n",
        "odd=[]\n",
        "even=[]\n",
        "for i in range(0,len(listt)):\n",
        "  if int(listt[i])%2==0:\n",
        "    even.append(listt[i])\n",
        "  else:\n",
        "    odd.append(listt[i])\n",
        "res=even+odd\n",
        "res"
      ],
      "id": "61bb3625",
      "execution_count": null,
      "outputs": [
        {
          "name": "stdout",
          "output_type": "stream",
          "text": [
            "Enter list elements: 1 2 3 4 5 6\n"
          ]
        },
        {
          "output_type": "execute_result",
          "data": {
            "text/plain": [
              "['2', '4', '6', '1', '3', '5']"
            ]
          },
          "metadata": {},
          "execution_count": 68
        }
      ]
    },
    {
      "cell_type": "markdown",
      "metadata": {
        "id": "7bea26b8"
      },
      "source": [
        "# Tuple\n",
        "A tuple is a collection of objects which ordered and immutable. <br>\n",
        "Tuples are sequences. The differences between tuples and lists are, the tuples cannot be changed unlike lists and tuples use parentheses, whereas lists use square brackets.\n"
      ],
      "id": "7bea26b8"
    },
    {
      "cell_type": "code",
      "metadata": {
        "id": "a6c771ab"
      },
      "source": [
        "tup1 = ('physics', 'chemistry', 1997, 2000);\n",
        "tup2 = (1, 2, 3, 4, 5 );\n",
        "tup3 = \"a\", \"b\", \"c\", \"d\";\n",
        "\n",
        "# Print the first element of tuple\n",
        "print(tup1[0])\n",
        "\n",
        "# Print a range of values \n",
        "print(\"tup2[1:5]: \", tup2[1:5]);"
      ],
      "id": "a6c771ab",
      "execution_count": null,
      "outputs": []
    },
    {
      "cell_type": "markdown",
      "metadata": {
        "id": "a42fd79f"
      },
      "source": [
        "# "
      ],
      "id": "a42fd79f"
    },
    {
      "cell_type": "markdown",
      "metadata": {
        "id": "513f7024"
      },
      "source": [
        "<b>Basic tuple operations</b><br>\n",
        "<table class=\"table table-bordered\" style=\"text-align:center;\">\n",
        "<tbody><tr>\n",
        "<th style=\"text-align:center;\">Python Expression</th>\n",
        "<th style=\"text-align:center;\">Results</th>\n",
        "<th style=\"text-align:center;\">Description</th>\n",
        "</tr>\n",
        "<tr>\n",
        "<td>len((1, 2, 3))</td>\n",
        "<td>3</td>\n",
        "<td>Length</td>\n",
        "</tr>\n",
        "<tr>\n",
        "<td>(1, 2, 3) + (4, 5, 6)</td>\n",
        "<td>(1, 2, 3, 4, 5, 6)</td>\n",
        "<td>Concatenation</td>\n",
        "</tr>\n",
        "<tr>\n",
        "<td>('Hi!',) * 4</td>\n",
        "<td>('Hi!', 'Hi!', 'Hi!', 'Hi!')</td>\n",
        "<td>Repetition</td>\n",
        "</tr>\n",
        "<tr>\n",
        "<td>3 in (1, 2, 3)</td>\n",
        "<td>True</td>\n",
        "<td>Membership</td>\n",
        "</tr>\n",
        "<tr>\n",
        "<td>for x in (1, 2, 3): print x,</td>\n",
        "<td>1 2 3</td>\n",
        "<td>Iteration</td>\n",
        "</tr>\n",
        "</tbody></table>"
      ],
      "id": "513f7024"
    },
    {
      "cell_type": "markdown",
      "metadata": {
        "id": "74c7f4d8"
      },
      "source": [
        "11. Python program to find Maximum and Minimum K elements in Tuple (we need to extract only extreme K elements, i.e maximum and minimum K elements in Tuple)\n",
        "    \n",
        "        Input : test_tup = (3, 7, 1, 18, 9), k = 2 \n",
        "        Output : (3, 1, 9, 18)\n",
        "        \n",
        "        Input : test_tup = (3, 7, 1), k=1 \n",
        "        Output : (1, 3) "
      ],
      "id": "74c7f4d8"
    },
    {
      "cell_type": "code",
      "metadata": {
        "id": "c2151647",
        "colab": {
          "base_uri": "https://localhost:8080/"
        },
        "outputId": "14f0001a-84e4-428e-8e8f-6aab7a9414eb"
      },
      "source": [
        "# Answer\n",
        "tup=tuple(input(\"Enter list elements: \").split())\n",
        "n= int(input(\"Enter extreme : \"))\n",
        "res = []\n",
        "tup = list(sorted(tup))\n",
        "for i, val in enumerate(tup):\n",
        "    if i < n or i >= len(tup) - n:\n",
        "        res.append(val)\n",
        "res = tuple(res)\n",
        "res\n"
      ],
      "id": "c2151647",
      "execution_count": null,
      "outputs": [
        {
          "name": "stdout",
          "output_type": "stream",
          "text": [
            "Enter list elements: 7 5 3 1 4 2 6\n",
            "Enter extreme : 2\n"
          ]
        },
        {
          "output_type": "execute_result",
          "data": {
            "text/plain": [
              "('1', '2', '6', '7')"
            ]
          },
          "metadata": {},
          "execution_count": 71
        }
      ]
    },
    {
      "cell_type": "markdown",
      "metadata": {
        "id": "8b4b9f95"
      },
      "source": [
        "12. Python program to demonstrate the addition of elements in a Tuple."
      ],
      "id": "8b4b9f95"
    },
    {
      "cell_type": "code",
      "metadata": {
        "id": "62078467",
        "colab": {
          "base_uri": "https://localhost:8080/"
        },
        "outputId": "bc454d46-ff02-45a0-dacd-a3e4aa65da22"
      },
      "source": [
        "# Answer\n",
        "tup=tuple(input(\"Enter list elements: \").split())\n",
        "s=0\n",
        "for i in range(0,len(tup)):\n",
        "  s+=int(tup[i])\n",
        "s"
      ],
      "id": "62078467",
      "execution_count": null,
      "outputs": [
        {
          "name": "stdout",
          "output_type": "stream",
          "text": [
            "Enter list elements: 1 2 3 4 5\n"
          ]
        },
        {
          "output_type": "execute_result",
          "data": {
            "text/plain": [
              "15"
            ]
          },
          "metadata": {},
          "execution_count": 76
        }
      ]
    },
    {
      "cell_type": "markdown",
      "metadata": {
        "id": "c88f5bcb"
      },
      "source": [
        " Dictionary"
      ],
      "id": "c88f5bcb"
    },
    {
      "cell_type": "code",
      "metadata": {
        "id": "0fda821e"
      },
      "source": [
        "dict = {'Name': 'Zara', 'Age': 7, 'Class': 'First'}\n",
        "print(\"dict['Name']: \", dict['Name'])\n",
        "print(\"dict['Age']: \", dict['Age'])"
      ],
      "id": "0fda821e",
      "execution_count": null,
      "outputs": []
    },
    {
      "cell_type": "markdown",
      "metadata": {
        "id": "5c1abc8a"
      },
      "source": [
        "13. Program to create a dictionary which store student roll number as key and name as value.<br>\n",
        "And write a program to search the dictionary using roll number and diplay the name of student."
      ],
      "id": "5c1abc8a"
    },
    {
      "cell_type": "code",
      "metadata": {
        "id": "f9c03278",
        "colab": {
          "base_uri": "https://localhost:8080/",
          "height": 136
        },
        "outputId": "a4071740-f212-4085-d531-bd59c83009e7"
      },
      "source": [
        "#Answer\n",
        "d={}\n",
        "x=int(input(\"enter no of records : \"))\n",
        "for i in range(0,x):\n",
        "  n=input(f\"Enter rollno{i}:\")\n",
        "  na=input(f\"Enter name{i}:\")\n",
        "  d[n]=na\n",
        "res=None\n",
        "ser=input(\"Enter roll no to search: \")\n",
        "d[ser]"
      ],
      "id": "f9c03278",
      "execution_count": null,
      "outputs": [
        {
          "name": "stdout",
          "output_type": "stream",
          "text": [
            "enter no of records : 2\n",
            "Enter rollno0:1\n",
            "Enter name0:Ashiq\n",
            "Enter rollno1:2\n",
            "Enter name1:Ameer\n",
            "Enter roll no to search: 2\n"
          ]
        },
        {
          "output_type": "execute_result",
          "data": {
            "application/vnd.google.colaboratory.intrinsic+json": {
              "type": "string"
            },
            "text/plain": [
              "'Ameer'"
            ]
          },
          "metadata": {},
          "execution_count": 92
        }
      ]
    },
    {
      "cell_type": "markdown",
      "metadata": {
        "id": "680d93a1"
      },
      "source": [
        "14. <b>Caesar cipher Encryption and Decription</b> <br>\n",
        "\n",
        "<table class=\"wikitable\"><tbody><tr style=\"vertical-align:top\"><th scope=\"row\">  Plain</th><td>  A</td><td>B</td><td>C</td><td>D</td><td>E</td><td>F</td><td>G</td><td>H</td><td>I</td><td>J</td><td>K</td><td>L</td><td>M</td><td>N</td><td>O</td><td>P</td><td>Q</td><td>R</td><td>S</td><td>T</td><td>U</td><td>V</td><td>W</td><td>X</td><td>Y</td><td>Z</td></tr><tr style=\"vertical-align:top\"><th scope=\"row\">  Cipher</th><td> X</td><td>Y</td><td>Z</td><td>A</td><td>B</td><td>C</td><td>D</td><td>E</td><td>F</td><td>G</td><td>H</td><td>I</td><td>J</td><td>K</td><td>L</td><td>M</td><td>N</td><td>O</td><td>P</td><td>Q</td><td>R</td><td>S</td><td>T</td><td>U</td><td>V</td><td>W</td></tr></tbody></table>\n",
        "    \n",
        "Plaintext:  THE QUICK BROWN FOX JUMPS OVER THE LAZY DOG<br>\n",
        "Ciphertext: QEB NRFZH YOLTK CLU GRJMP LSBO QEB IXWV ALD<br><br>\n",
        "\n",
        "\n",
        "Write two functions :<br>\n",
        "    encrypt() convert a given text to caeser cipher<br>\n",
        "    decrypt() decrypt the cipher back to text<br>"
      ],
      "id": "680d93a1"
    },
    {
      "cell_type": "code",
      "metadata": {
        "id": "4289e6d0",
        "colab": {
          "base_uri": "https://localhost:8080/"
        },
        "outputId": "ce542eca-48a3-4486-8fe8-8f03b8c85215"
      },
      "source": [
        "#Answer\n",
        "def encrypt(text,s):\n",
        "    result = \"\"\n",
        " \n",
        "    # traverse text\n",
        "    for i in range(len(text)):\n",
        "        char = text[i]\n",
        " \n",
        "        # Encrypt uppercase characters\n",
        "        if (char.isupper()):\n",
        "            result += chr((ord(char) + s-65) % 26 + 65)\n",
        " \n",
        "        # Encrypt lowercase characters\n",
        "        else:\n",
        "            result += chr((ord(char) + s - 97) % 26 + 97)\n",
        "\n",
        "    return result\n",
        "\n",
        "#check the above function\n",
        "text =str(input(\"Enter text: \"))\n",
        "s = 23\n",
        "print (f\"Text  : {text}\")\n",
        "print (f\"Shift : {str(s)}\")\n",
        "c=encrypt(text,s)\n",
        "print (f\"Cipher: {c}\")\n",
        "\n",
        "print (f\"Decrypted: {encrypt(c,26-s)}\")"
      ],
      "id": "4289e6d0",
      "execution_count": null,
      "outputs": [
        {
          "output_type": "stream",
          "name": "stdout",
          "text": [
            "Enter text:  THE QUICK BROWN FOX JUMPS OVER THE LAZY DOG\n",
            "Text  :  THE QUICK BROWN FOX JUMPS OVER THE LAZY DOG\n",
            "Shift : 23\n",
            "Cipher: kQEBkNRFZHkYOLTKkCLUkGRJMPkLSBOkQEBkIXWVkALD\n",
            "Decrypted: nTHEnQUICKnBROWNnFOXnJUMPSnOVERnTHEnLAZYnDOG\n"
          ]
        }
      ]
    },
    {
      "cell_type": "markdown",
      "metadata": {
        "id": "a418794e"
      },
      "source": [
        "15. Counting the frequencies in a list and create a dictionary to store the count of all unique elements in the list"
      ],
      "id": "a418794e"
    },
    {
      "cell_type": "code",
      "metadata": {
        "id": "20f103e4",
        "colab": {
          "base_uri": "https://localhost:8080/"
        },
        "outputId": "93e6e76c-cf97-46d4-e83a-c0dfc07ca044"
      },
      "source": [
        "#Answer\n",
        "def CountFrequency(my_list):\n",
        " \n",
        "    # Creating an empty dictionary\n",
        "    freq = {}\n",
        "    for item in my_list:\n",
        "        if (item in freq):\n",
        "            freq[item] += 1\n",
        "        else:\n",
        "            freq[item] = 1\n",
        " \n",
        "    return freq\n",
        "\n",
        "my_list =input(\"enter list: \").split()\n",
        " \n",
        "CountFrequency(my_list)"
      ],
      "id": "20f103e4",
      "execution_count": null,
      "outputs": [
        {
          "name": "stdout",
          "output_type": "stream",
          "text": [
            "enter list: 1 2 3 4 5 4 3 2 3 4 5\n"
          ]
        },
        {
          "output_type": "execute_result",
          "data": {
            "text/plain": [
              "{'1': 1, '2': 2, '3': 3, '4': 3, '5': 2}"
            ]
          },
          "metadata": {},
          "execution_count": 103
        }
      ]
    },
    {
      "cell_type": "markdown",
      "metadata": {
        "id": "00645cdb"
      },
      "source": [
        "# String"
      ],
      "id": "00645cdb"
    },
    {
      "cell_type": "code",
      "metadata": {
        "id": "a9d0081a"
      },
      "source": [
        "var1 = 'Hello World!'\n",
        "var2 = \"Python Programming\"\n",
        "\n",
        "print(\"var1[0]: \", var1[0])\n",
        "print(\"var2[1:5]: \", var2[1:5])"
      ],
      "id": "a9d0081a",
      "execution_count": null,
      "outputs": []
    },
    {
      "cell_type": "markdown",
      "metadata": {
        "id": "df86bbab"
      },
      "source": [
        "16. Python program to check if a string is palindrome or not"
      ],
      "id": "df86bbab"
    },
    {
      "cell_type": "code",
      "metadata": {
        "id": "4bd913de",
        "colab": {
          "base_uri": "https://localhost:8080/"
        },
        "outputId": "11861594-dfa1-4288-d0e3-ae7a398c1b98"
      },
      "source": [
        "#Answer\n",
        "s=str(input(\"enter string : \"))\n",
        "r=s[::-1]\n",
        "if r==s:\n",
        "  print(\"Its a palindrome\")\n",
        "else:\n",
        "  print(\"Not a palindrome\")"
      ],
      "id": "4bd913de",
      "execution_count": null,
      "outputs": [
        {
          "output_type": "stream",
          "name": "stdout",
          "text": [
            "enter string : tenet\n",
            "Its a palindrome\n"
          ]
        }
      ]
    },
    {
      "cell_type": "markdown",
      "metadata": {
        "id": "6fda4934"
      },
      "source": [
        "17. Remove all duplicates from a given string in Python"
      ],
      "id": "6fda4934"
    },
    {
      "cell_type": "code",
      "metadata": {
        "id": "ec793767",
        "colab": {
          "base_uri": "https://localhost:8080/"
        },
        "outputId": "4ecd1ce5-53bf-4299-b283-51f582b2178b"
      },
      "source": [
        "#Answer\n",
        "\n",
        "def removeDuplicate(stri):\n",
        "    s=set(stri)\n",
        "    s=\"\".join(s)\n",
        "    print(\"Without duplicates:\",s)\n",
        "\n",
        "\n",
        "stri=input(\"enter string: \")\n",
        "removeDuplicate(stri)\n"
      ],
      "id": "ec793767",
      "execution_count": null,
      "outputs": [
        {
          "output_type": "stream",
          "name": "stdout",
          "text": [
            "enter string: muhammad ashiq ameer\n",
            "Without duplicates: mhqsde arui\n"
          ]
        }
      ]
    },
    {
      "cell_type": "markdown",
      "metadata": {
        "id": "a4fa20d1"
      },
      "source": [
        "18. Program to count the number of words, characters and numbers in a paragraph"
      ],
      "id": "a4fa20d1"
    },
    {
      "cell_type": "code",
      "metadata": {
        "id": "a5bb4891",
        "colab": {
          "base_uri": "https://localhost:8080/"
        },
        "outputId": "93adb7c9-c8aa-4bc8-89e6-3965b7daf269"
      },
      "source": [
        "#Answer\n",
        "total_digits=0\n",
        "test_string =input(\"Enter string: \")\n",
        "res = len(test_string.split())\n",
        "for s in test_string:\n",
        "    # if character is digit (return True)\n",
        "    if s.isnumeric():\n",
        "        total_digits += 1\n",
        "\n",
        "length=len(test_string)-test_string.count(\" \") \n",
        "\n",
        "print(f\"The number of words in string are : {res-total_digits}\")\n",
        "print(f\"The number of letters in string are : {length}\")\n",
        "print(f\"The no. of numbers in the string are : {total_digits}\")"
      ],
      "id": "a5bb4891",
      "execution_count": null,
      "outputs": [
        {
          "output_type": "stream",
          "name": "stdout",
          "text": [
            "Enter string: muhammad ashiq ameer 1 2 3\n",
            "The number of words in string are : 3\n",
            "The number of letters in string are : 21\n",
            "The no. of numbers in the string are : 3\n"
          ]
        }
      ]
    },
    {
      "cell_type": "markdown",
      "metadata": {
        "id": "61e77462"
      },
      "source": [
        "19) Write a program to accept a list of strings and create a new list that consists of those strings\n",
        "    with their first characters removed.\n",
        "    \n",
        "        Enter a list of strings: [\"red\", \"green\", \"blue\", \"pink\", \"cyan\"]\n",
        "        List after removing first characters:['ed', 'reen', 'lue', 'ink', 'yan']"
      ],
      "id": "61e77462"
    },
    {
      "cell_type": "code",
      "metadata": {
        "id": "4f27c192",
        "colab": {
          "base_uri": "https://localhost:8080/"
        },
        "outputId": "316f07fd-f60e-4cc0-fa46-6bd1b87a834e"
      },
      "source": [
        "#Answer\n",
        "l1 = input(\"Enter a list of strings: \").split()\n",
        "l2 = []\n",
        "\n",
        "for i in range(len(l1)):\n",
        "    l2.append(l1[i][1:])\n",
        "\n",
        "print(\"List after removing first characters:\")\n",
        "print(l2)"
      ],
      "id": "4f27c192",
      "execution_count": null,
      "outputs": [
        {
          "output_type": "stream",
          "name": "stdout",
          "text": [
            "Enter a list of strings: red green blue pink cyan\n",
            "List after removing first characters:\n",
            "['ed', 'reen', 'lue', 'ink', 'yan']\n"
          ]
        }
      ]
    },
    {
      "cell_type": "markdown",
      "metadata": {
        "id": "6bd170d4"
      },
      "source": [
        "20) Write a program to print the length of the longest string in a list of user input strings.\n",
        "\n",
        "        The original list : ['gfg', 'is', 'best', 'for', 'geeks']\n",
        "        Maximum length string is : geeks"
      ],
      "id": "6bd170d4"
    },
    {
      "cell_type": "code",
      "metadata": {
        "id": "236f2ba2",
        "colab": {
          "base_uri": "https://localhost:8080/"
        },
        "outputId": "e86d7b90-5522-400a-fb77-170042e04520"
      },
      "source": [
        "#Answer\n",
        "  \n",
        "test_list=input(\"Enter list of strings : \").split()\n",
        "res = max(test_list, key = len)\n",
        "\n",
        "print(\"Maximum length string is : \" + res)\n"
      ],
      "id": "236f2ba2",
      "execution_count": null,
      "outputs": [
        {
          "output_type": "stream",
          "name": "stdout",
          "text": [
            "Enter list of strings : gfg is best for geeks\n",
            "Maximum length string is : geeks\n"
          ]
        }
      ]
    },
    {
      "cell_type": "markdown",
      "metadata": {
        "id": "9c34d3f6"
      },
      "source": [
        "# Matrix"
      ],
      "id": "9c34d3f6"
    },
    {
      "cell_type": "raw",
      "metadata": {
        "id": "969051a2"
      },
      "source": [
        "program to accept a m x n matrix\n",
        "1 2 3\n",
        "4 5 6\n",
        "7 8 9"
      ],
      "id": "969051a2"
    },
    {
      "cell_type": "code",
      "metadata": {
        "id": "d464266f"
      },
      "source": [
        "r = int(input())\n",
        "c = int(input())\n",
        "#  Complete\n",
        "matrix = []\n",
        "for i in range(r):\n",
        "    row = input()\n",
        "    row = [int(i) for i in row.split()]\n",
        "    matrix.append(row)\n",
        "\n",
        "print(matrix)"
      ],
      "id": "d464266f",
      "execution_count": null,
      "outputs": []
    },
    {
      "cell_type": "markdown",
      "metadata": {
        "id": "c1898834"
      },
      "source": [
        "21) Write a function to accept a n x n matrix and find its transpose"
      ],
      "id": "c1898834"
    },
    {
      "cell_type": "code",
      "metadata": {
        "colab": {
          "base_uri": "https://localhost:8080/"
        },
        "id": "C-Lc51B6M-Rh",
        "outputId": "895a939e-878a-4942-e902-9cd63eda8690"
      },
      "source": [
        "import numpy as np\n",
        "\n",
        "M,N=input(\"Enter order of matrix: \").split()\n",
        "entries = list(map(int, input().split()))\n",
        "  \n",
        "# For printing the matrix\n",
        "matrix = np.array(entries).reshape(int(N), int(M))\n",
        "print(matrix)\n",
        "print(f\"Transpose : \")\n",
        "matrix.transpose()"
      ],
      "id": "C-Lc51B6M-Rh",
      "execution_count": null,
      "outputs": [
        {
          "output_type": "stream",
          "name": "stdout",
          "text": [
            "Enter order of matrix: 3 3\n",
            "1 2 3 4 5 6 7 8 9\n",
            "[[1 2 3]\n",
            " [4 5 6]\n",
            " [7 8 9]]\n",
            "Transpose : \n"
          ]
        },
        {
          "output_type": "execute_result",
          "data": {
            "text/plain": [
              "array([[1, 4, 7],\n",
              "       [2, 5, 8],\n",
              "       [3, 6, 9]])"
            ]
          },
          "metadata": {},
          "execution_count": 142
        }
      ]
    },
    {
      "cell_type": "markdown",
      "metadata": {
        "id": "294f4b6d"
      },
      "source": [
        "22) Write a program to read 2 matrices and find sum, difference and multiply."
      ],
      "id": "294f4b6d"
    },
    {
      "cell_type": "code",
      "metadata": {
        "id": "fa07ca08",
        "colab": {
          "base_uri": "https://localhost:8080/"
        },
        "outputId": "e1cba006-7802-4893-e83d-fbc181adabb7"
      },
      "source": [
        "import numpy as np\n",
        "N=input(\"Enter order of square matrix: \")\n",
        "def createMatrix(n):\n",
        "  matrix = []\n",
        "  # taking RxC matrix from the user\n",
        "  for i in range(int(n)):\n",
        "    # empty row\n",
        "    row = []\n",
        "    for j in range(int(n)):\n",
        "      # asking the user to input the number\n",
        "      # converts the input to int as the default one is string\n",
        "      element = int(input())\n",
        "      # appending the element to the 'row'\n",
        "      row.append(element)\n",
        "    # appending the 'row' to the 'matrix'\n",
        "    matrix.append(row)\n",
        "  return matrix\n",
        "print(\"Enter 1st matrix: \\n\")\n",
        "A=createMatrix(N)\n",
        "print(\"Enter 2nd matrix: \\n\")\n",
        "B=createMatrix(N)\n",
        "print(A)\n",
        "print(B)\n",
        "sum=np.add(A,B)\n",
        "dif=np.subtract(A,B)\n",
        "mul=np.dot(A,B)\n",
        "print(\"sum:\")\n",
        "print(sum)\n",
        "print(\"difference:\")\n",
        "print(dif)\n",
        "print(\"product: \")\n",
        "print(mul)"
      ],
      "id": "fa07ca08",
      "execution_count": null,
      "outputs": [
        {
          "output_type": "stream",
          "name": "stdout",
          "text": [
            "Enter order of square matrix: 3\n",
            "Enter 1st matrix: \n",
            "\n",
            "1\n",
            "2\n",
            "3\n",
            "4\n",
            "5\n",
            "6\n",
            "7\n",
            "8\n",
            "9\n",
            "Enter 2nd matrix: \n",
            "\n",
            "9\n",
            "8\n",
            "7\n",
            "6\n",
            "5\n",
            "4\n",
            "3\n",
            "2\n",
            "1\n",
            "[[1, 2, 3], [4, 5, 6], [7, 8, 9]]\n",
            "[[9, 8, 7], [6, 5, 4], [3, 2, 1]]\n",
            "sum:\n",
            "[[10 10 10]\n",
            " [10 10 10]\n",
            " [10 10 10]]\n",
            "difference:\n",
            "[[-8 -6 -4]\n",
            " [-2  0  2]\n",
            " [ 4  6  8]]\n",
            "product: \n",
            "[[ 30  24  18]\n",
            " [ 84  69  54]\n",
            " [138 114  90]]\n"
          ]
        }
      ]
    }
  ]
}