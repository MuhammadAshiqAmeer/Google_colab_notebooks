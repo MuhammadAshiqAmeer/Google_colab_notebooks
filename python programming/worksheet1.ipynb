{
  "nbformat": 4,
  "nbformat_minor": 0,
  "metadata": {
    "colab": {
      "name": "worksheet1.ipynb",
      "provenance": [],
      "collapsed_sections": []
    },
    "kernelspec": {
      "name": "python3",
      "display_name": "Python 3"
    },
    "language_info": {
      "name": "python"
    }
  },
  "cells": [
    {
      "cell_type": "markdown",
      "metadata": {
        "id": "V5ZVSM9EW43I"
      },
      "source": [
        "**1**) Write a Python program to read a sentence from the user and capitalize the second-last\n",
        "letter of each word and print the modified sentence.\n",
        "Eg: Input sentence -> Python is meant to be an easily readable language\n",
        "Output Sentence-> PythOn Is meaNt To Be An easiLy readabLe language\n"
      ]
    },
    {
      "cell_type": "code",
      "metadata": {
        "colab": {
          "base_uri": "https://localhost:8080/"
        },
        "id": "bRKeOhitW0L4",
        "outputId": "b34c9319-efa4-437f-b61c-19f31ba491e7"
      },
      "source": [
        "x = input(\"input sentence : \").split()\n",
        "res = ''\n",
        "for i in x:\n",
        "  i= i[0:len(i)-2] + i[len(i)-2].upper() + i[len(i)-1]+ ' '\n",
        "  res=res + i\n",
        "\n",
        "print(res)"
      ],
      "execution_count": null,
      "outputs": [
        {
          "output_type": "stream",
          "name": "stdout",
          "text": [
            "input sentence : Python is meant to be an easily readable language\n",
            "PythOn Is meaNt To Be An easiLy readabLe languaGe \n"
          ]
        }
      ]
    },
    {
      "cell_type": "markdown",
      "metadata": {
        "id": "xEH0qPZSYnN9"
      },
      "source": [
        "**2**) Write a function which accepts three lists and returns a list of sums of the corresponding\n",
        "elements.\n",
        "If the inputs are [3, 1, 3], [1, 4, 8], [1, 1, 2], then the output should be [5, 6, 13]."
      ]
    },
    {
      "cell_type": "code",
      "metadata": {
        "colab": {
          "base_uri": "https://localhost:8080/"
        },
        "id": "TCiGDsogYqpJ",
        "outputId": "63e83c95-989c-4f24-eb1f-5804a86dcbde"
      },
      "source": [
        "import numpy as np\n",
        "\n",
        "def listSum(list1,list2,list3):\n",
        "  res =[]\n",
        "  for i in range(0,3):\n",
        "    res.append(list1[i]+list2[i]+list3[i])\n",
        "  return res\n",
        "\n",
        "listSum([3, 1, 3], [1, 4, 8], [1, 1, 2])"
      ],
      "execution_count": null,
      "outputs": [
        {
          "output_type": "execute_result",
          "data": {
            "text/plain": [
              "[5, 6, 13]"
            ]
          },
          "metadata": {},
          "execution_count": 22
        }
      ]
    },
    {
      "cell_type": "markdown",
      "metadata": {
        "id": "rmTNUbsmbgzM"
      },
      "source": [
        "**3**) Write a function which accepts multiple lists each of different length and compute the\n",
        "sum. Even if some list is exhausted,the output continues with the sum of the elements\n",
        "of the rest of the lists.\n",
        "Eg:If the inputs are [3,1,3],[1,4],[1],then the output should be [5,5,3]\n"
      ]
    },
    {
      "cell_type": "code",
      "metadata": {
        "colab": {
          "base_uri": "https://localhost:8080/"
        },
        "id": "aGnrePldbmgp",
        "outputId": "274ff248-959f-47d0-a60e-ca27d37d0628"
      },
      "source": [
        "def sum_lists_diff_length(test_list):\n",
        "    result =  [sum(x) for x in zip(*map(lambda x:x+[0]*max(map(len, test_list)) if len(x)<max(map(len, test_list)) else x, test_list))]\n",
        "    return result\n",
        "\n",
        "sum_lists_diff_length([[3, 1, 3], [1, 4,], [1]])"
      ],
      "execution_count": null,
      "outputs": [
        {
          "output_type": "execute_result",
          "data": {
            "text/plain": [
              "[5, 5, 3]"
            ]
          },
          "metadata": {},
          "execution_count": 112
        }
      ]
    },
    {
      "cell_type": "markdown",
      "metadata": {
        "id": "mrJxetXioyuY"
      },
      "source": [
        "**4**) Write a function which accepts a list of strings and returns a dictionary mapping each\n",
        "string to its length."
      ]
    },
    {
      "cell_type": "code",
      "metadata": {
        "colab": {
          "base_uri": "https://localhost:8080/"
        },
        "id": "x4Jhq_D2o5ES",
        "outputId": "54bc3437-1c99-49c2-9883-d7c066453719"
      },
      "source": [
        "def strToDic(strList):\n",
        "  dic={}\n",
        "  for i in range(0,len(strList)):\n",
        "    dic.update({strList[i]:len(strList[i])})\n",
        "  return dic\n",
        "\n",
        "strToDic(['Hello','World','!'])\n",
        "  "
      ],
      "execution_count": null,
      "outputs": [
        {
          "output_type": "execute_result",
          "data": {
            "text/plain": [
              "{'!': 1, 'Hello': 5, 'World': 5}"
            ]
          },
          "metadata": {},
          "execution_count": 42
        }
      ]
    },
    {
      "cell_type": "markdown",
      "metadata": {
        "id": "z7SWMptHtbfg"
      },
      "source": [
        "**5**) Write a function which takes a list as input and returns a dictionary mapping each list\n",
        "element into the number of times the element appears in the list.\n",
        "For example, if the input list is [1,2,1,3,2,5,1], the dictionary should\n",
        "map 1 to 3, 2 to 2, 3 to 1 and 5 to 1."
      ]
    },
    {
      "cell_type": "code",
      "metadata": {
        "colab": {
          "base_uri": "https://localhost:8080/"
        },
        "id": "hg0-T-3Ntg8_",
        "outputId": "b24c3ca1-ee2d-4c3f-aed8-fb8b353fbb77"
      },
      "source": [
        "def listCount(Clist):\n",
        "  dict={}\n",
        "  for i in Clist:\n",
        "    dict.update({i:Clist.count(i)})\n",
        "  return dict\n",
        "\n",
        "listCount([1,2,3,4,2,3,5,1,2,4,3,5,3,6,7])"
      ],
      "execution_count": null,
      "outputs": [
        {
          "output_type": "execute_result",
          "data": {
            "text/plain": [
              "{1: 2, 2: 3, 3: 4, 4: 2, 5: 2, 6: 1, 7: 1}"
            ]
          },
          "metadata": {},
          "execution_count": 47
        }
      ]
    },
    {
      "cell_type": "markdown",
      "metadata": {
        "id": "qtH87n6_v70G"
      },
      "source": [
        "**6**) Read an array(list) of numbers. Read two numbers a1 and a2. Prints the elements in the\n",
        "array that are exactly divisible by both a1 and a2."
      ]
    },
    {
      "cell_type": "code",
      "metadata": {
        "colab": {
          "base_uri": "https://localhost:8080/"
        },
        "id": "9Fb-29wfwDK3",
        "outputId": "9ed96a5b-8cb6-4fd0-ff63-56dfb7c1cfc2"
      },
      "source": [
        "x=input(\"Enter numbers : \").split()\n",
        "a1,a2=input(\"Enter a1 and a2 : \").split()\n",
        "for i in x:\n",
        "  if (int(i) % int(a1) ==0) & (int(i) % int(a2)==0):\n",
        "    print(i)\n",
        "  \n"
      ],
      "execution_count": null,
      "outputs": [
        {
          "output_type": "stream",
          "name": "stdout",
          "text": [
            "Enter numbers : 1 2 3 4 5 6\n",
            "Enter a1 and a2 : 2 3\n",
            "6\n"
          ]
        }
      ]
    },
    {
      "cell_type": "markdown",
      "metadata": {
        "id": "T2McuyZjxu1_"
      },
      "source": [
        "**7**) Read a list of numbers. Repeat the ith element (i-1) times in the array. Print the modified\n",
        "array, size and sum of its elements.\n",
        "Eg: Input array -> [2, 5, 7, 1]\n",
        "Modified array -> [ 2, 5, 5, 7, 7, 7, 1, 1, 1, 1] Size -> 10 Sum -> 37\n"
      ]
    },
    {
      "cell_type": "code",
      "metadata": {
        "colab": {
          "base_uri": "https://localhost:8080/"
        },
        "id": "EAsREd3XxyMp",
        "outputId": "092f9177-c520-47ce-917c-e10acdd7f750"
      },
      "source": [
        "inp = input(\"Enter elements : \").split()\n",
        "arr = []\n",
        "res = []\n",
        "for i in range(len(inp)):\n",
        "    arr.append(int(inp[i]))\n",
        "\n",
        "\n",
        "print(arr)\n",
        "c = 0\n",
        "for i in range(len(arr)):\n",
        "    l = i+1\n",
        "    while l > 0:\n",
        "        res.insert(c, arr[i])\n",
        "        c = c + 1\n",
        "        l = l - 1\n",
        "\n",
        "\n",
        "print(res)\n",
        "print(f\"size = {len(res)}\")\n",
        "print(f\"sum = {sum(res)}\")\n"
      ],
      "execution_count": null,
      "outputs": [
        {
          "output_type": "stream",
          "name": "stdout",
          "text": [
            "Enter elements : 1 2 3 4 5\n",
            "[1, 2, 3, 4, 5]\n",
            "[1, 2, 2, 3, 3, 3, 4, 4, 4, 4, 5, 5, 5, 5, 5]\n",
            "size = 15\n",
            "sum = 55\n"
          ]
        }
      ]
    },
    {
      "cell_type": "markdown",
      "metadata": {
        "id": "2AR6zkGuyLSR"
      },
      "source": [
        "**8**) Read a list of numbers, read upper bound and lower bound. Print the numbers in the\n",
        "array that are within the given boundary and its average.\n",
        "Eg: Input array -> [ 13, 6, 23, -5, 34, 2, 34, 7, -5, 28, 5, 8] Lower bound -> 10 Upper\n",
        "bound -> 28 Numbers within the boundary -> 13, 23, 28 Average -> 21.33\n"
      ]
    },
    {
      "cell_type": "code",
      "metadata": {
        "colab": {
          "base_uri": "https://localhost:8080/"
        },
        "id": "FlgksJQIyL-c",
        "outputId": "3a3cf328-7425-426a-ed29-0fea8a1d8510"
      },
      "source": [
        "import statistics as sta\n",
        "x=input(\"enter numbers : \").split()\n",
        "l,u = input(\"enter lower bound & upper bound : \").split()\n",
        "r=[]\n",
        "for i in x:\n",
        "  if (int(i)>=int(l)) & (int(i)<=int(u)):\n",
        "    r.append(int(i))\n",
        "print(f\"Numbers within the boundary : {r}\")\n",
        "print(f\"Average : {sum(r)/len(r)}\")\n"
      ],
      "execution_count": null,
      "outputs": [
        {
          "output_type": "stream",
          "name": "stdout",
          "text": [
            "enter numbers : 1 2 3 4 5 6 7\n",
            "enter lower bound & upper bound : 2 5\n",
            "Numbers within the boundary : [2, 3, 4, 5]\n",
            "Average : 3.5\n"
          ]
        }
      ]
    },
    {
      "cell_type": "markdown",
      "metadata": {
        "id": "X2OdPBFW4pQr"
      },
      "source": [
        "**9**) Read a number and a bit position. If the i\n",
        "th bit is 1, replace it with (i+1)th bit, otherwise\n",
        "no change. Print the new number (Hint:Use bit operators)\n",
        "Eg: Number: 23 (binary : 10111) Position : 2 Here, bit position 2 (from right to left\n",
        "starting with bit position 0) is 1, so it has to be replaced with bit at bit position 3, which\n",
        "is 0. So, the modified number in binary is (10011) So the answer is 19\n"
      ]
    },
    {
      "cell_type": "code",
      "metadata": {
        "colab": {
          "base_uri": "https://localhost:8080/"
        },
        "id": "kE8AM8wv4zsb",
        "outputId": "b600af50-54e3-4069-c88e-b443a24773c3"
      },
      "source": [
        "x,p=input(\"Enter no and position : \").split()\n",
        "n=bin(int(x))\n",
        "s=list(n)\n",
        "\n",
        "if s[-(int(p)+1)]=='1':\n",
        "  s[-(int(p)+1)]=s[-(int(p)+2)]\n",
        "\n",
        "result = int(\"\".join(str(i) for i in s),2)\n",
        "result\n"
      ],
      "execution_count": null,
      "outputs": [
        {
          "name": "stdout",
          "output_type": "stream",
          "text": [
            "Enter no and position : 23 2\n"
          ]
        },
        {
          "output_type": "execute_result",
          "data": {
            "text/plain": [
              "19"
            ]
          },
          "metadata": {},
          "execution_count": 93
        }
      ]
    },
    {
      "cell_type": "markdown",
      "metadata": {
        "id": "t3M9cmxR44cp"
      },
      "source": [
        "**10**) Write a function which accepts a list of numbers and a threshold number. The function\n",
        "returns a new list containing 1s and 0s. The i\n",
        "th entry of the new list is 1 if the i\n",
        "th entry\n",
        "of the old list is greater than or equal to threshold, and 0 otherwise.\n",
        "Example: if the inputs are [10,2,5,8] and if the threshold is 5, the output should\n",
        "be [1,0,1,1]."
      ]
    },
    {
      "cell_type": "code",
      "metadata": {
        "colab": {
          "base_uri": "https://localhost:8080/"
        },
        "id": "eCqsLgkp4769",
        "outputId": "127658c7-3b8c-4b57-d96f-dc878cf76f5d"
      },
      "source": [
        "def dumbFunc(dlist,t):\n",
        "  res=[]\n",
        "  for i in dlist:\n",
        "    if int(i) < int(t):\n",
        "      res.append('0')\n",
        "    else:\n",
        "      res.append('1')\n",
        "  return res\n",
        "\n",
        "dumbFunc([10,2,5,8],5)"
      ],
      "execution_count": null,
      "outputs": [
        {
          "output_type": "execute_result",
          "data": {
            "text/plain": [
              "['1', '0', '1', '1']"
            ]
          },
          "metadata": {},
          "execution_count": 100
        }
      ]
    },
    {
      "cell_type": "markdown",
      "metadata": {
        "id": "bzKfVDn04_1z"
      },
      "source": [
        "**11**) Write a function in Python to count and display the total number of words in a text file"
      ]
    },
    {
      "cell_type": "code",
      "metadata": {
        "colab": {
          "resources": {
            "http://localhost:8080/nbextensions/google.colab/files.js": {
              "data": "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",
              "ok": true,
              "headers": [
                [
                  "content-type",
                  "application/javascript"
                ]
              ],
              "status": 200,
              "status_text": ""
            }
          },
          "base_uri": "https://localhost:8080/",
          "height": 73
        },
        "id": "BxnLI30-5A7R",
        "outputId": "670e26ef-df01-4e25-b93e-8ab0876902f2"
      },
      "source": [
        "from google.colab import files\n",
        "uploaded = files.upload()"
      ],
      "execution_count": null,
      "outputs": [
        {
          "output_type": "display_data",
          "data": {
            "text/html": [
              "\n",
              "     <input type=\"file\" id=\"files-45f9466a-03fe-4a2c-b530-cb9f82ec09d8\" name=\"files[]\" multiple disabled\n",
              "        style=\"border:none\" />\n",
              "     <output id=\"result-45f9466a-03fe-4a2c-b530-cb9f82ec09d8\">\n",
              "      Upload widget is only available when the cell has been executed in the\n",
              "      current browser session. Please rerun this cell to enable.\n",
              "      </output>\n",
              "      <script src=\"/nbextensions/google.colab/files.js\"></script> "
            ],
            "text/plain": [
              "<IPython.core.display.HTML object>"
            ]
          },
          "metadata": {}
        },
        {
          "output_type": "stream",
          "name": "stdout",
          "text": [
            "Saving test.txt to test (1).txt\n"
          ]
        }
      ]
    },
    {
      "cell_type": "code",
      "metadata": {
        "colab": {
          "base_uri": "https://localhost:8080/"
        },
        "id": "0shINPorJ2Cv",
        "outputId": "2d55a91d-7831-4a82-8bbf-63346e473256"
      },
      "source": [
        "count = 0;  \n",
        "   \n",
        "#Opens a file in read mode  \n",
        "file = open(\"test.txt\", \"r\")  \n",
        "      \n",
        "#Gets each line till end of file is reached  \n",
        "for line in file:  \n",
        "    #Splits each line into words  \n",
        "    words = line.split(\" \");  \n",
        "    #Counts each word  \n",
        "    count = count + len(words);  \n",
        "   \n",
        "print(\"Number of words present in given file: \" + str(count));  \n",
        "file.close();  "
      ],
      "execution_count": null,
      "outputs": [
        {
          "output_type": "stream",
          "name": "stdout",
          "text": [
            "Number of words present in given file: 4\n"
          ]
        }
      ]
    },
    {
      "cell_type": "markdown",
      "metadata": {
        "id": "o-TO8NEf5Fmd"
      },
      "source": [
        "**12**) Prepare a CSV file as below:\n",
        "![image.png](data:image/png;base64,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)\n",
        "Write a Python program to load the above csv file and calculate the net score using the\n",
        "formula Score = Number of right answers x 4 - Number of wrong answers.\n",
        "Read Cut-off mark from the user and print the list of students who cleared cut-off."
      ]
    },
    {
      "cell_type": "code",
      "metadata": {
        "colab": {
          "resources": {
            "http://localhost:8080/nbextensions/google.colab/files.js": {
              "data": "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",
              "ok": true,
              "headers": [
                [
                  "content-type",
                  "application/javascript"
                ]
              ],
              "status": 200,
              "status_text": ""
            }
          },
          "base_uri": "https://localhost:8080/",
          "height": 73
        },
        "id": "GEXc8IdJ5VA2",
        "outputId": "711f7660-1788-41e0-806d-28c6e1ad306f"
      },
      "source": [
        "from google.colab import files\n",
        "uploaded = files.upload()"
      ],
      "execution_count": null,
      "outputs": [
        {
          "output_type": "display_data",
          "data": {
            "text/html": [
              "\n",
              "     <input type=\"file\" id=\"files-3f923dbe-14dd-4220-8e86-4f9bd7866c5e\" name=\"files[]\" multiple disabled\n",
              "        style=\"border:none\" />\n",
              "     <output id=\"result-3f923dbe-14dd-4220-8e86-4f9bd7866c5e\">\n",
              "      Upload widget is only available when the cell has been executed in the\n",
              "      current browser session. Please rerun this cell to enable.\n",
              "      </output>\n",
              "      <script src=\"/nbextensions/google.colab/files.js\"></script> "
            ],
            "text/plain": [
              "<IPython.core.display.HTML object>"
            ]
          },
          "metadata": {}
        },
        {
          "output_type": "stream",
          "name": "stdout",
          "text": [
            "Saving students.csv to students.csv\n"
          ]
        }
      ]
    },
    {
      "cell_type": "code",
      "metadata": {
        "id": "Pqd8OI5cMLPu"
      },
      "source": [
        "import io\n",
        "import pandas as pd\n",
        "\n",
        "df=pd.read_csv(io.BytesIO(uploaded['students.csv']))"
      ],
      "execution_count": null,
      "outputs": []
    },
    {
      "cell_type": "code",
      "metadata": {
        "colab": {
          "base_uri": "https://localhost:8080/",
          "height": 511
        },
        "id": "HFRX9t5OMa2E",
        "outputId": "287fcb30-2f65-4b00-d523-1f82c6fcd3a9"
      },
      "source": [
        "df\n"
      ],
      "execution_count": null,
      "outputs": [
        {
          "output_type": "execute_result",
          "data": {
            "text/html": [
              "<div>\n",
              "<style scoped>\n",
              "    .dataframe tbody tr th:only-of-type {\n",
              "        vertical-align: middle;\n",
              "    }\n",
              "\n",
              "    .dataframe tbody tr th {\n",
              "        vertical-align: top;\n",
              "    }\n",
              "\n",
              "    .dataframe thead th {\n",
              "        text-align: right;\n",
              "    }\n",
              "</style>\n",
              "<table border=\"1\" class=\"dataframe\">\n",
              "  <thead>\n",
              "    <tr style=\"text-align: right;\">\n",
              "      <th></th>\n",
              "      <th>name</th>\n",
              "      <th>roll no</th>\n",
              "      <th>number of right answers</th>\n",
              "      <th>number of wrong answers</th>\n",
              "    </tr>\n",
              "  </thead>\n",
              "  <tbody>\n",
              "    <tr>\n",
              "      <th>0</th>\n",
              "      <td>Aswin</td>\n",
              "      <td>10001</td>\n",
              "      <td>20</td>\n",
              "      <td>4</td>\n",
              "    </tr>\n",
              "    <tr>\n",
              "      <th>1</th>\n",
              "      <td>Devdatt</td>\n",
              "      <td>10002</td>\n",
              "      <td>18</td>\n",
              "      <td>6</td>\n",
              "    </tr>\n",
              "    <tr>\n",
              "      <th>2</th>\n",
              "      <td>Hardik</td>\n",
              "      <td>10003</td>\n",
              "      <td>8</td>\n",
              "      <td>12</td>\n",
              "    </tr>\n",
              "    <tr>\n",
              "      <th>3</th>\n",
              "      <td>Jasprit</td>\n",
              "      <td>10004</td>\n",
              "      <td>11</td>\n",
              "      <td>12</td>\n",
              "    </tr>\n",
              "    <tr>\n",
              "      <th>4</th>\n",
              "      <td>Manish</td>\n",
              "      <td>10005</td>\n",
              "      <td>22</td>\n",
              "      <td>4</td>\n",
              "    </tr>\n",
              "    <tr>\n",
              "      <th>5</th>\n",
              "      <td>Mayank</td>\n",
              "      <td>10006</td>\n",
              "      <td>14</td>\n",
              "      <td>3</td>\n",
              "    </tr>\n",
              "    <tr>\n",
              "      <th>6</th>\n",
              "      <td>Natarajan</td>\n",
              "      <td>10007</td>\n",
              "      <td>12</td>\n",
              "      <td>2</td>\n",
              "    </tr>\n",
              "    <tr>\n",
              "      <th>7</th>\n",
              "      <td>Rahul</td>\n",
              "      <td>10008</td>\n",
              "      <td>7</td>\n",
              "      <td>5</td>\n",
              "    </tr>\n",
              "    <tr>\n",
              "      <th>8</th>\n",
              "      <td>Rishabh</td>\n",
              "      <td>10009</td>\n",
              "      <td>16</td>\n",
              "      <td>3</td>\n",
              "    </tr>\n",
              "    <tr>\n",
              "      <th>9</th>\n",
              "      <td>Rohit</td>\n",
              "      <td>10010</td>\n",
              "      <td>21</td>\n",
              "      <td>0</td>\n",
              "    </tr>\n",
              "    <tr>\n",
              "      <th>10</th>\n",
              "      <td>Sanju</td>\n",
              "      <td>10011</td>\n",
              "      <td>14</td>\n",
              "      <td>11</td>\n",
              "    </tr>\n",
              "    <tr>\n",
              "      <th>11</th>\n",
              "      <td>Shreyas</td>\n",
              "      <td>10012</td>\n",
              "      <td>17</td>\n",
              "      <td>5</td>\n",
              "    </tr>\n",
              "    <tr>\n",
              "      <th>12</th>\n",
              "      <td>Siraj</td>\n",
              "      <td>10013</td>\n",
              "      <td>13</td>\n",
              "      <td>7</td>\n",
              "    </tr>\n",
              "    <tr>\n",
              "      <th>13</th>\n",
              "      <td>Subhman</td>\n",
              "      <td>10014</td>\n",
              "      <td>11</td>\n",
              "      <td>7</td>\n",
              "    </tr>\n",
              "    <tr>\n",
              "      <th>14</th>\n",
              "      <td>Virat</td>\n",
              "      <td>10015</td>\n",
              "      <td>16</td>\n",
              "      <td>5</td>\n",
              "    </tr>\n",
              "  </tbody>\n",
              "</table>\n",
              "</div>"
            ],
            "text/plain": [
              "         name  roll no  number of right answers  number of wrong answers\n",
              "0       Aswin    10001                       20                        4\n",
              "1     Devdatt    10002                       18                        6\n",
              "2      Hardik    10003                        8                       12\n",
              "3     Jasprit    10004                       11                       12\n",
              "4      Manish    10005                       22                        4\n",
              "5      Mayank    10006                       14                        3\n",
              "6   Natarajan    10007                       12                        2\n",
              "7       Rahul    10008                        7                        5\n",
              "8     Rishabh    10009                       16                        3\n",
              "9       Rohit    10010                       21                        0\n",
              "10      Sanju    10011                       14                       11\n",
              "11    Shreyas    10012                       17                        5\n",
              "12      Siraj    10013                       13                        7\n",
              "13    Subhman    10014                       11                        7\n",
              "14      Virat    10015                       16                        5"
            ]
          },
          "metadata": {},
          "execution_count": 106
        }
      ]
    },
    {
      "cell_type": "code",
      "metadata": {
        "colab": {
          "base_uri": "https://localhost:8080/",
          "height": 511
        },
        "id": "4eZGn84-MeE_",
        "outputId": "0e51ade6-1c62-4b4c-cc34-0a0a49fc76dc"
      },
      "source": [
        "df['net score']=(df['number of right answers']*4)-df['number of wrong answers']\n",
        "df\n"
      ],
      "execution_count": null,
      "outputs": [
        {
          "output_type": "execute_result",
          "data": {
            "text/html": [
              "<div>\n",
              "<style scoped>\n",
              "    .dataframe tbody tr th:only-of-type {\n",
              "        vertical-align: middle;\n",
              "    }\n",
              "\n",
              "    .dataframe tbody tr th {\n",
              "        vertical-align: top;\n",
              "    }\n",
              "\n",
              "    .dataframe thead th {\n",
              "        text-align: right;\n",
              "    }\n",
              "</style>\n",
              "<table border=\"1\" class=\"dataframe\">\n",
              "  <thead>\n",
              "    <tr style=\"text-align: right;\">\n",
              "      <th></th>\n",
              "      <th>name</th>\n",
              "      <th>roll no</th>\n",
              "      <th>number of right answers</th>\n",
              "      <th>number of wrong answers</th>\n",
              "      <th>net score</th>\n",
              "    </tr>\n",
              "  </thead>\n",
              "  <tbody>\n",
              "    <tr>\n",
              "      <th>0</th>\n",
              "      <td>Aswin</td>\n",
              "      <td>10001</td>\n",
              "      <td>20</td>\n",
              "      <td>4</td>\n",
              "      <td>76</td>\n",
              "    </tr>\n",
              "    <tr>\n",
              "      <th>1</th>\n",
              "      <td>Devdatt</td>\n",
              "      <td>10002</td>\n",
              "      <td>18</td>\n",
              "      <td>6</td>\n",
              "      <td>66</td>\n",
              "    </tr>\n",
              "    <tr>\n",
              "      <th>2</th>\n",
              "      <td>Hardik</td>\n",
              "      <td>10003</td>\n",
              "      <td>8</td>\n",
              "      <td>12</td>\n",
              "      <td>20</td>\n",
              "    </tr>\n",
              "    <tr>\n",
              "      <th>3</th>\n",
              "      <td>Jasprit</td>\n",
              "      <td>10004</td>\n",
              "      <td>11</td>\n",
              "      <td>12</td>\n",
              "      <td>32</td>\n",
              "    </tr>\n",
              "    <tr>\n",
              "      <th>4</th>\n",
              "      <td>Manish</td>\n",
              "      <td>10005</td>\n",
              "      <td>22</td>\n",
              "      <td>4</td>\n",
              "      <td>84</td>\n",
              "    </tr>\n",
              "    <tr>\n",
              "      <th>5</th>\n",
              "      <td>Mayank</td>\n",
              "      <td>10006</td>\n",
              "      <td>14</td>\n",
              "      <td>3</td>\n",
              "      <td>53</td>\n",
              "    </tr>\n",
              "    <tr>\n",
              "      <th>6</th>\n",
              "      <td>Natarajan</td>\n",
              "      <td>10007</td>\n",
              "      <td>12</td>\n",
              "      <td>2</td>\n",
              "      <td>46</td>\n",
              "    </tr>\n",
              "    <tr>\n",
              "      <th>7</th>\n",
              "      <td>Rahul</td>\n",
              "      <td>10008</td>\n",
              "      <td>7</td>\n",
              "      <td>5</td>\n",
              "      <td>23</td>\n",
              "    </tr>\n",
              "    <tr>\n",
              "      <th>8</th>\n",
              "      <td>Rishabh</td>\n",
              "      <td>10009</td>\n",
              "      <td>16</td>\n",
              "      <td>3</td>\n",
              "      <td>61</td>\n",
              "    </tr>\n",
              "    <tr>\n",
              "      <th>9</th>\n",
              "      <td>Rohit</td>\n",
              "      <td>10010</td>\n",
              "      <td>21</td>\n",
              "      <td>0</td>\n",
              "      <td>84</td>\n",
              "    </tr>\n",
              "    <tr>\n",
              "      <th>10</th>\n",
              "      <td>Sanju</td>\n",
              "      <td>10011</td>\n",
              "      <td>14</td>\n",
              "      <td>11</td>\n",
              "      <td>45</td>\n",
              "    </tr>\n",
              "    <tr>\n",
              "      <th>11</th>\n",
              "      <td>Shreyas</td>\n",
              "      <td>10012</td>\n",
              "      <td>17</td>\n",
              "      <td>5</td>\n",
              "      <td>63</td>\n",
              "    </tr>\n",
              "    <tr>\n",
              "      <th>12</th>\n",
              "      <td>Siraj</td>\n",
              "      <td>10013</td>\n",
              "      <td>13</td>\n",
              "      <td>7</td>\n",
              "      <td>45</td>\n",
              "    </tr>\n",
              "    <tr>\n",
              "      <th>13</th>\n",
              "      <td>Subhman</td>\n",
              "      <td>10014</td>\n",
              "      <td>11</td>\n",
              "      <td>7</td>\n",
              "      <td>37</td>\n",
              "    </tr>\n",
              "    <tr>\n",
              "      <th>14</th>\n",
              "      <td>Virat</td>\n",
              "      <td>10015</td>\n",
              "      <td>16</td>\n",
              "      <td>5</td>\n",
              "      <td>59</td>\n",
              "    </tr>\n",
              "  </tbody>\n",
              "</table>\n",
              "</div>"
            ],
            "text/plain": [
              "         name  roll no  ...  number of wrong answers  net score\n",
              "0       Aswin    10001  ...                        4         76\n",
              "1     Devdatt    10002  ...                        6         66\n",
              "2      Hardik    10003  ...                       12         20\n",
              "3     Jasprit    10004  ...                       12         32\n",
              "4      Manish    10005  ...                        4         84\n",
              "5      Mayank    10006  ...                        3         53\n",
              "6   Natarajan    10007  ...                        2         46\n",
              "7       Rahul    10008  ...                        5         23\n",
              "8     Rishabh    10009  ...                        3         61\n",
              "9       Rohit    10010  ...                        0         84\n",
              "10      Sanju    10011  ...                       11         45\n",
              "11    Shreyas    10012  ...                        5         63\n",
              "12      Siraj    10013  ...                        7         45\n",
              "13    Subhman    10014  ...                        7         37\n",
              "14      Virat    10015  ...                        5         59\n",
              "\n",
              "[15 rows x 5 columns]"
            ]
          },
          "metadata": {},
          "execution_count": 109
        }
      ]
    },
    {
      "cell_type": "code",
      "metadata": {
        "colab": {
          "base_uri": "https://localhost:8080/",
          "height": 422
        },
        "id": "ToTwvkPzNKdN",
        "outputId": "e338e178-b8de-451e-d8ac-8043e3cf63cc"
      },
      "source": [
        "c=input(\"Cut-off = \")\n",
        "p=df[df['net score']>=int(c)]\n",
        "print(\"passed students :\")\n",
        "p"
      ],
      "execution_count": null,
      "outputs": [
        {
          "output_type": "stream",
          "name": "stdout",
          "text": [
            "Cut-off = 40\n",
            "passed students :\n"
          ]
        },
        {
          "output_type": "execute_result",
          "data": {
            "text/html": [
              "<div>\n",
              "<style scoped>\n",
              "    .dataframe tbody tr th:only-of-type {\n",
              "        vertical-align: middle;\n",
              "    }\n",
              "\n",
              "    .dataframe tbody tr th {\n",
              "        vertical-align: top;\n",
              "    }\n",
              "\n",
              "    .dataframe thead th {\n",
              "        text-align: right;\n",
              "    }\n",
              "</style>\n",
              "<table border=\"1\" class=\"dataframe\">\n",
              "  <thead>\n",
              "    <tr style=\"text-align: right;\">\n",
              "      <th></th>\n",
              "      <th>name</th>\n",
              "      <th>roll no</th>\n",
              "      <th>number of right answers</th>\n",
              "      <th>number of wrong answers</th>\n",
              "      <th>net score</th>\n",
              "    </tr>\n",
              "  </thead>\n",
              "  <tbody>\n",
              "    <tr>\n",
              "      <th>0</th>\n",
              "      <td>Aswin</td>\n",
              "      <td>10001</td>\n",
              "      <td>20</td>\n",
              "      <td>4</td>\n",
              "      <td>76</td>\n",
              "    </tr>\n",
              "    <tr>\n",
              "      <th>1</th>\n",
              "      <td>Devdatt</td>\n",
              "      <td>10002</td>\n",
              "      <td>18</td>\n",
              "      <td>6</td>\n",
              "      <td>66</td>\n",
              "    </tr>\n",
              "    <tr>\n",
              "      <th>4</th>\n",
              "      <td>Manish</td>\n",
              "      <td>10005</td>\n",
              "      <td>22</td>\n",
              "      <td>4</td>\n",
              "      <td>84</td>\n",
              "    </tr>\n",
              "    <tr>\n",
              "      <th>5</th>\n",
              "      <td>Mayank</td>\n",
              "      <td>10006</td>\n",
              "      <td>14</td>\n",
              "      <td>3</td>\n",
              "      <td>53</td>\n",
              "    </tr>\n",
              "    <tr>\n",
              "      <th>6</th>\n",
              "      <td>Natarajan</td>\n",
              "      <td>10007</td>\n",
              "      <td>12</td>\n",
              "      <td>2</td>\n",
              "      <td>46</td>\n",
              "    </tr>\n",
              "    <tr>\n",
              "      <th>8</th>\n",
              "      <td>Rishabh</td>\n",
              "      <td>10009</td>\n",
              "      <td>16</td>\n",
              "      <td>3</td>\n",
              "      <td>61</td>\n",
              "    </tr>\n",
              "    <tr>\n",
              "      <th>9</th>\n",
              "      <td>Rohit</td>\n",
              "      <td>10010</td>\n",
              "      <td>21</td>\n",
              "      <td>0</td>\n",
              "      <td>84</td>\n",
              "    </tr>\n",
              "    <tr>\n",
              "      <th>10</th>\n",
              "      <td>Sanju</td>\n",
              "      <td>10011</td>\n",
              "      <td>14</td>\n",
              "      <td>11</td>\n",
              "      <td>45</td>\n",
              "    </tr>\n",
              "    <tr>\n",
              "      <th>11</th>\n",
              "      <td>Shreyas</td>\n",
              "      <td>10012</td>\n",
              "      <td>17</td>\n",
              "      <td>5</td>\n",
              "      <td>63</td>\n",
              "    </tr>\n",
              "    <tr>\n",
              "      <th>12</th>\n",
              "      <td>Siraj</td>\n",
              "      <td>10013</td>\n",
              "      <td>13</td>\n",
              "      <td>7</td>\n",
              "      <td>45</td>\n",
              "    </tr>\n",
              "    <tr>\n",
              "      <th>14</th>\n",
              "      <td>Virat</td>\n",
              "      <td>10015</td>\n",
              "      <td>16</td>\n",
              "      <td>5</td>\n",
              "      <td>59</td>\n",
              "    </tr>\n",
              "  </tbody>\n",
              "</table>\n",
              "</div>"
            ],
            "text/plain": [
              "         name  roll no  ...  number of wrong answers  net score\n",
              "0       Aswin    10001  ...                        4         76\n",
              "1     Devdatt    10002  ...                        6         66\n",
              "4      Manish    10005  ...                        4         84\n",
              "5      Mayank    10006  ...                        3         53\n",
              "6   Natarajan    10007  ...                        2         46\n",
              "8     Rishabh    10009  ...                        3         61\n",
              "9       Rohit    10010  ...                        0         84\n",
              "10      Sanju    10011  ...                       11         45\n",
              "11    Shreyas    10012  ...                        5         63\n",
              "12      Siraj    10013  ...                        7         45\n",
              "14      Virat    10015  ...                        5         59\n",
              "\n",
              "[11 rows x 5 columns]"
            ]
          },
          "metadata": {},
          "execution_count": 111
        }
      ]
    }
  ]
}