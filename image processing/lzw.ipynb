{
  "nbformat": 4,
  "nbformat_minor": 0,
  "metadata": {
    "colab": {
      "name": "lzw.ipynb",
      "provenance": []
    },
    "kernelspec": {
      "name": "python3",
      "display_name": "Python 3"
    },
    "language_info": {
      "name": "python"
    }
  },
  "cells": [
    {
      "cell_type": "code",
      "execution_count": 80,
      "metadata": {
        "id": "yCb2fW9frhaE"
      },
      "outputs": [],
      "source": [
        "\n",
        "\n",
        "class TwoWayDict(dict):\n",
        "\tdef __setitem__(self, key, value):\n",
        "\t\t# Remove any previous connections with these values\n",
        "\t\tif key in self:\n",
        "\t\t\tdel self[key]\n",
        "\t\tif value in self:\n",
        "\t\t\tdel self[value]\n",
        "\t\tdict.__setitem__(self, key, value)\n",
        "\t\tdict.__setitem__(self, value, key)\n",
        "\n",
        "\tdef __delitem__(self, key):\n",
        "\t\tdict.__delitem__(self, self[key])\n",
        "\t\tdict.__delitem__(self, key)\n",
        "\n",
        "\tdef __len__(self):\n",
        "\t\t\"\"\"Returns the number of connections\"\"\"\n",
        "\t\treturn dict.__len__(self) // 2\n",
        "\n"
      ]
    },
    {
      "cell_type": "code",
      "source": [
        "d = TwoWayDict()\n",
        "count = 0"
      ],
      "metadata": {
        "id": "VMWyh76LK31C"
      },
      "execution_count": 81,
      "outputs": []
    },
    {
      "cell_type": "code",
      "source": [
        "def start():\n",
        "\tfor number in range(32,127):\n",
        "\t\tglobal count\n",
        "\t\td[count] = chr(number)\n",
        "\t\tcount += 1"
      ],
      "metadata": {
        "id": "FJO2Mg_uK6AX"
      },
      "execution_count": 82,
      "outputs": []
    },
    {
      "cell_type": "code",
      "source": [
        "\n",
        "def compression():\n",
        "\tglobal count\n",
        "\ts = \"\"\n",
        "\tch = \"\"\n",
        "\toutput = \"\"\n",
        "\tsample = input(\"String to code:\")\n",
        "\n",
        "\tfor ch in sample:\n",
        "\t\tif s+ch in d.values():\n",
        "\t\t\ts = s + ch\n",
        "\t\telse :\n",
        "\t\t\toutput = output + str(d[s]) + \" \"\n",
        "\t\t\td[count] = s + ch\n",
        "\t\t\tcount += 1\n",
        "\t\t\ts = ch\n",
        "\toutput = output + str(d[s]) + \" \"\n",
        "\n",
        "\treturn output"
      ],
      "metadata": {
        "id": "aTfRnR5NK9tk"
      },
      "execution_count": 83,
      "outputs": []
    },
    {
      "cell_type": "code",
      "source": [
        "def decompression(Compressed):\n",
        "\tglobal count\n",
        "\tentry = \"\"\n",
        "\tch = \"\"\n",
        "\top = \"\"\n",
        "\n",
        "\tw=Compressed.split(\" \")\n",
        "\t\n",
        "\tindex = int(w[0])\n",
        "\top = d[index]\n",
        "\tfor i in range(len(w)):\n",
        "\t\tif i != 0 and w[i]!= '':\n",
        "\t\t\tcurrcode = int(w[i])\n",
        "\t\t\tentry = d[currcode];\n",
        "\t\t\top = op + entry\n",
        "\n",
        "\treturn op"
      ],
      "metadata": {
        "id": "VNnkOnDMLCvd"
      },
      "execution_count": 84,
      "outputs": []
    },
    {
      "cell_type": "code",
      "source": [
        ""
      ],
      "metadata": {
        "id": "8lte1OsqVN-H"
      },
      "execution_count": 84,
      "outputs": []
    },
    {
      "cell_type": "code",
      "source": [
        "start()\n",
        "\n",
        "print(\"dictionary:\")\n",
        "print(d)\n",
        "\n",
        "\n"
      ],
      "metadata": {
        "colab": {
          "base_uri": "https://localhost:8080/"
        },
        "id": "67a4NvHuKzKp",
        "outputId": "d75d28f7-db7d-4d60-d9f0-ae96dd3c8167"
      },
      "execution_count": 85,
      "outputs": [
        {
          "output_type": "stream",
          "name": "stdout",
          "text": [
            "dictionary:\n",
            "{0: ' ', ' ': 0, 1: '!', '!': 1, 2: '\"', '\"': 2, 3: '#', '#': 3, 4: '$', '$': 4, 5: '%', '%': 5, 6: '&', '&': 6, 7: \"'\", \"'\": 7, 8: '(', '(': 8, 9: ')', ')': 9, 10: '*', '*': 10, 11: '+', '+': 11, 12: ',', ',': 12, 13: '-', '-': 13, 14: '.', '.': 14, 15: '/', '/': 15, 16: '0', '0': 16, 17: '1', '1': 17, 18: '2', '2': 18, 19: '3', '3': 19, 20: '4', '4': 20, 21: '5', '5': 21, 22: '6', '6': 22, 23: '7', '7': 23, 24: '8', '8': 24, 25: '9', '9': 25, 26: ':', ':': 26, 27: ';', ';': 27, 28: '<', '<': 28, 29: '=', '=': 29, 30: '>', '>': 30, 31: '?', '?': 31, 32: '@', '@': 32, 33: 'A', 'A': 33, 34: 'B', 'B': 34, 35: 'C', 'C': 35, 36: 'D', 'D': 36, 37: 'E', 'E': 37, 38: 'F', 'F': 38, 39: 'G', 'G': 39, 40: 'H', 'H': 40, 41: 'I', 'I': 41, 42: 'J', 'J': 42, 43: 'K', 'K': 43, 44: 'L', 'L': 44, 45: 'M', 'M': 45, 46: 'N', 'N': 46, 47: 'O', 'O': 47, 48: 'P', 'P': 48, 49: 'Q', 'Q': 49, 50: 'R', 'R': 50, 51: 'S', 'S': 51, 52: 'T', 'T': 52, 53: 'U', 'U': 53, 54: 'V', 'V': 54, 55: 'W', 'W': 55, 56: 'X', 'X': 56, 57: 'Y', 'Y': 57, 58: 'Z', 'Z': 58, 59: '[', '[': 59, 60: '\\\\', '\\\\': 60, 61: ']', ']': 61, 62: '^', '^': 62, 63: '_', '_': 63, 64: '`', '`': 64, 65: 'a', 'a': 65, 66: 'b', 'b': 66, 67: 'c', 'c': 67, 68: 'd', 'd': 68, 69: 'e', 'e': 69, 70: 'f', 'f': 70, 71: 'g', 'g': 71, 72: 'h', 'h': 72, 73: 'i', 'i': 73, 74: 'j', 'j': 74, 75: 'k', 'k': 75, 76: 'l', 'l': 76, 77: 'm', 'm': 77, 78: 'n', 'n': 78, 79: 'o', 'o': 79, 80: 'p', 'p': 80, 81: 'q', 'q': 81, 82: 'r', 'r': 82, 83: 's', 's': 83, 84: 't', 't': 84, 85: 'u', 'u': 85, 86: 'v', 'v': 86, 87: 'w', 'w': 87, 88: 'x', 'x': 88, 89: 'y', 'y': 89, 90: 'z', 'z': 90, 91: '{', '{': 91, 92: '|', '|': 92, 93: '}', '}': 93, 94: '~', '~': 94}\n"
          ]
        }
      ]
    },
    {
      "cell_type": "code",
      "source": [
        "c=compression()\n",
        "print(f\"Coded:{c}\")\n",
        "\n",
        "dec=decompression(c)\n",
        "print(f\"decoded:{dec}\")"
      ],
      "metadata": {
        "colab": {
          "base_uri": "https://localhost:8080/"
        },
        "id": "WTsD5GmWXWlu",
        "outputId": "04c53209-f91f-4f84-f8d5-36ab71e642a1"
      },
      "execution_count": 86,
      "outputs": [
        {
          "output_type": "stream",
          "name": "stdout",
          "text": [
            "String to code:ashiq\n",
            "Coded:65 83 72 73 81 \n",
            "decoded:ashiq\n"
          ]
        }
      ]
    }
  ]
}