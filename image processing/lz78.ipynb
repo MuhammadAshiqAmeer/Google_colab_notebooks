{
  "nbformat": 4,
  "nbformat_minor": 0,
  "metadata": {
    "colab": {
      "name": "lz78.ipynb",
      "provenance": []
    },
    "kernelspec": {
      "name": "python3",
      "display_name": "Python 3"
    },
    "language_info": {
      "name": "python"
    }
  },
  "cells": [
    {
      "cell_type": "code",
      "execution_count": 2,
      "metadata": {
        "colab": {
          "base_uri": "https://localhost:8080/"
        },
        "id": "dGN2X4jzjYkC",
        "outputId": "315ff441-e8b3-419e-dcef-e76c4db06149"
      },
      "outputs": [
        {
          "output_type": "stream",
          "name": "stdout",
          "text": [
            "LZ78 Compression Algorithm\n",
            "=================================================================\n",
            "Enter the string you want to compress:ashiqashiq \n",
            "Enetered string is: ashiqashiq \n",
            "Compressed file generated as compressed.txt\n",
            "Encoded string: Encoded string: { 0 : a } { 0 : s } { 0 : h } { 0 : i } { 0 : q } { 1 : s } { 3 : i } { 5 :   } \n",
            "\n",
            "Decoded string: ashiqashiq \n"
          ]
        }
      ],
      "source": [
        "def longest_common_substring(s1, s2):\n",
        "    maxLongest = 0\n",
        "    offset = 0\n",
        "    for i in range(0, len(s1)):\n",
        "        longest = 0\n",
        "        if ((i == len(s1) - len(s2) - 2)):\n",
        "            break\n",
        "        for j in range(0, len(s2)):\n",
        "            if (i+j < len(s1)):\n",
        "                if s1[i+j] == s2[j]:\n",
        "                    longest = longest + 1\n",
        "                    if (maxLongest < longest):\n",
        "                        maxLongest = longest\n",
        "                        offset = i\n",
        "                else:\n",
        "                    break\n",
        "            else:\n",
        "                break\n",
        "    return maxLongest, offset\n",
        "\n",
        "\n",
        "def encode_lz78(text):\n",
        "    dictionary = dict()\n",
        "    i = 0\n",
        "    index = 1\n",
        "    encodedNumbers = []\n",
        "    encodedLetters = []\n",
        "    while i < len(text):\n",
        "        stringToBeSaved = text[i]\n",
        "        indexInDictionary = 0\n",
        "        while stringToBeSaved in dictionary:\n",
        "            indexInDictionary = dictionary[stringToBeSaved]\n",
        "            if (i == len(text) - 1):\n",
        "                stringToBeSaved = \" \"\n",
        "                break\n",
        "            i = i + 1\n",
        "            stringToBeSaved = stringToBeSaved + text[i]\n",
        "        encodedNumbers.append(indexInDictionary)\n",
        "        encodedLetters.append(stringToBeSaved[len(stringToBeSaved) - 1])\n",
        "        if (stringToBeSaved not in dictionary):\n",
        "            dictionary[stringToBeSaved] = index\n",
        "            index = index + 1\n",
        "        i = i + 1\n",
        "\n",
        "    return encodedNumbers, encodedLetters, dictionary\n",
        "\n",
        "l = []\n",
        "def decode_lz78(encodedNumbers, encodedLetters, dictionary):\n",
        "    i = 0\n",
        "    while i < len(encodedNumbers):\n",
        "        if (encodedNumbers[i] != 0):\n",
        "            l.append(list(dictionary.keys())[list(dictionary.values()).index(encodedNumbers[i])])\n",
        "        l.append(encodedLetters[i])\n",
        "        i = i+1\n",
        "    return l\n",
        "\n",
        "\n",
        "print(\"LZ78 Compression Algorithm\")\n",
        "print(\"=================================================================\")\n",
        "\n",
        "stringToEncode = input(\"Enter the string you want to compress:\")\n",
        "\n",
        "print (\"Enetered string is:\",stringToEncode)\n",
        "[encodedNumbers, encodedLetters, dictionary] = encode_lz78(stringToEncode)\n",
        "a = [encodedNumbers, encodedLetters, dictionary]\n",
        "print(\"Compressed file generated as compressed.txt\")\n",
        "output = open(\"compressed.txt\",\"w+\")\n",
        "output.write(str(a))\n",
        "print(\"Encoded string: \", end=\"\")\n",
        "print(\"Encoded string: \", end=\"\")\n",
        "i = 0\n",
        "while i < len(encodedNumbers):\n",
        "    print (\"{\",encodedNumbers[i],\":\", encodedLetters[i],\"}\", end=\" \")\n",
        "    i = i + 1\n",
        "print('\\n')\n",
        "decode_lz78(encodedNumbers, encodedLetters, dictionary)\n",
        "print(\"Decoded string:\", \"\".join(l))"
      ]
    }
  ]
}