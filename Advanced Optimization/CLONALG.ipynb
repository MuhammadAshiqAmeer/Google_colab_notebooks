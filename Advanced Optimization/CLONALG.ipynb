{
  "nbformat": 4,
  "nbformat_minor": 0,
  "metadata": {
    "colab": {
      "name": "AOT_Asgmnt_1.ipynb",
      "provenance": []
    },
    "kernelspec": {
      "name": "python3",
      "display_name": "Python 3"
    },
    "language_info": {
      "name": "python"
    }
  },
  "cells": [
    {
      "cell_type": "markdown",
      "source": [
        "\n",
        "# **ADVANCED OPTIMIZATION TECHNIQUES**\n",
        "\n",
        "# ASSIGNMENT-1\n",
        "\n",
        "---\n",
        "\n",
        "\n",
        "\n",
        "<pre>\n",
        "                                                                           Submitted by\n",
        "                                                                                Muhammad Ashiq Ameer\n",
        "                                                                                M.Tech DS & AI\n",
        "</pre>\n",
        "\n"
      ],
      "metadata": {
        "id": "BErYQkZtXVSF"
      }
    },
    {
      "cell_type": "markdown",
      "source": [
        "<pre>Aim:     To implement Clonal Selection Algorithm to solve Eight Queen problem</pre>\n"
      ],
      "metadata": {
        "id": "nRsUKlNQaH-4"
      }
    },
    {
      "cell_type": "markdown",
      "source": [
        "<pre>\n",
        "Algorithm:\n",
        "      1.Initialize generation number as zero\n",
        "      2.Initialize the first generation population\n",
        "      3.Fitness evaluation of the current population\n",
        "      4.while termination criteria not met do\n",
        "          4.1 Select N individuals from the population pool\n",
        "          4.2 generate Cloned population from the selected N individuals\n",
        "          4.3 Maturate cloned population and merge with the population pool\n",
        "          4.4 Randomly generate fresh individuals\n",
        "          4.5 Merge and update current population\n",
        "          4.6 Fitness evaluation of the current population\n",
        "          4.7 Select individuals from the population pool for the next generation\n",
        "</pre>"
      ],
      "metadata": {
        "id": "736hknvobwmS"
      }
    },
    {
      "cell_type": "markdown",
      "source": [
        "<pre>\n",
        "Procedure:\n",
        "      1) create some randomly (decided by \"number_of_random_boards\") initialised chess boards as a list of lists\n",
        "      2) calculate the fitness score of each created board. Fitness means how many queens are under attack\n",
        "      3) we have a list of boards and a list of their fitness score as 2 separate list.we map them together using zip function\n",
        "      4) Picking up the N best boards based on fitness score ,N=number_of_best_to_choose\n",
        "      5) Creating clones of the best N picked boards.Number of clones of each best board depend on clone_rate\n",
        "      6) Mutating the cloned board by randomly selecting positions of m queens in each board,Where m = mutation_rate\n",
        "      7) Create some new random boards again to maintain population size\n",
        "      8) Repeat until a fitness score of 0 is found\n",
        "</pre>"
      ],
      "metadata": {
        "id": "rM4Yf8nLdbFa"
      }
    },
    {
      "cell_type": "markdown",
      "source": [
        "code:"
      ],
      "metadata": {
        "id": "86sAOQqLdynT"
      }
    },
    {
      "cell_type": "code",
      "source": [
        "import random\n",
        "from statistics import mean\n",
        "import matplotlib.pyplot as plt\n",
        "\n",
        "number_of_random_boards=100\n",
        "number_of_best_to_choose=40\n",
        "clone_rate=2\n",
        "mutation_rate=2\n",
        "\n",
        "#  create functions to do specific tasks \n",
        "#  create some randomly initialised chess boards\n",
        "\n",
        "def create_random_boards(number_of_random_boards):\n",
        "     \n",
        "        list_of_boards=[]\n",
        "        for r in range(number_of_random_boards):\n",
        "            q=[]\n",
        "            for t in range(8):\n",
        "                w=random.randint(0,7)\n",
        "                q.append(w)\n",
        "                \n",
        "            list_of_boards.append(q)    \n",
        "        return list_of_boards    \n",
        "\n",
        "\n",
        "#  calculate the fitness score of each created board\n",
        "#  fitness score of 0 (zero queens are under attack) is the best one\n",
        "        \n",
        "def canQueenAttack(list_of_boards):\n",
        "\n",
        "    score_list=[]    \n",
        "    for a_board in list_of_boards:\n",
        "        list_of_positions=list(enumerate(a_board ))             \n",
        "        score=0\n",
        "        for (qR,qC) in list_of_positions:\n",
        "            for (oR,oC) in list_of_positions:                \n",
        "                if (qR,qC)!=(oR,oC):\n",
        "                    if (qR == oR) | (qC == oC) | (abs(qR - oR) == abs(qC - oC)) : \n",
        "                        score=score+1\n",
        "                        break\n",
        "        score_list.append(score)\n",
        "                   \n",
        "    return score_list \n",
        "\n",
        "\n",
        "#  creating a map between each board and its respective fitness score to understand which board have a good score\n",
        "\n",
        "def join_position_and_score(list_of_boards,fitness_score):\n",
        "\n",
        "    q=zip(list_of_boards,fitness_score)\n",
        "    position_with_score=list(q)\n",
        "    \n",
        "    return position_with_score\n",
        "\n",
        "\n",
        "#  picking up the N best boards based on fitness score\n",
        "    \n",
        "def finding_best_n_postions(number_of_best_to_choose,position_with_score):\n",
        "\n",
        "    position_with_score_sorted=position_with_score.copy()\n",
        "    position_with_score_sorted.sort(key=lambda x: x[1])\n",
        "  \n",
        "    best_n=position_with_score_sorted[:number_of_best_to_choose]\n",
        "    best_n_positions=[]\n",
        "    for (q,p) in best_n:\n",
        "           best_n_positions.append(q) \n",
        "    \n",
        "    return best_n_positions \n",
        "\n",
        "\n",
        "#creating clones of the best N picked boards\n",
        "\n",
        "def create_clones(clone_rate,best_n_positions ):\n",
        "    \n",
        "    cloned_list_of_position=[]\n",
        "    for i in best_n_positions:\n",
        "        cloned_list_of_position += [i[:] for _ in range(clone_rate)]\n",
        "    \n",
        "    return cloned_list_of_position\n",
        "\n",
        "\n",
        "#  Mutating the cloned boards,by simply varying positions of m queens in each board,Where m = mutation_rate\n",
        "\n",
        "def create_mutation(mutation_rate,cloned_list_of_position):\n",
        "    \n",
        "    mutated_cloned_positions=[]            \n",
        "    for i in cloned_list_of_position:              \n",
        "        for t in range(mutation_rate):\n",
        "           while(True): \n",
        "                w=random.randint(0,7)         #picking random position\n",
        "                q=random.randint(0,7)         #picking random number    \n",
        "                if (i[w] != q) :\n",
        "                    i[w]=q\n",
        "                    break\n",
        "        mutated_cloned_positions.append(i)    \n",
        "        \n",
        "    return mutated_cloned_positions\n",
        "\n",
        "\n",
        "# execution\n",
        "\n",
        "list_of_boards=create_random_boards(number_of_random_boards)\n",
        "fitness_score=canQueenAttack(list_of_boards)\n",
        "generation=0\n",
        "position_with_score=join_position_and_score(list_of_boards,fitness_score)\n",
        "\n",
        "#  continue while loop until a fitness score of 0 is found\n",
        "average_fittness_of_a_population=[]\n",
        "best=[]\n",
        "while(0 not in fitness_score):\n",
        "    \n",
        "    best_n_positions =finding_best_n_postions(number_of_best_to_choose,position_with_score)\n",
        "    cloned_list_of_position=create_clones(clone_rate,best_n_positions )\n",
        "    mutated_cloned_positions=create_mutation(mutation_rate,cloned_list_of_position)\n",
        "\n",
        "    list_of_subrandom_boards=list_of_boards + mutated_cloned_positions\n",
        "\n",
        "    fitness_score=canQueenAttack(list_of_subrandom_boards)\n",
        "    position_with_score=join_position_and_score(list_of_subrandom_boards,fitness_score)\n",
        "    best_100_positions =finding_best_n_postions(number_of_best_to_choose,position_with_score)\n",
        "    list_of_boards=best_100_positions.copy()\n",
        "   \n",
        "\n",
        "    average_fittness_of_a_population.append(mean(fitness_score))\n",
        "    best.append(min(fitness_score))\n",
        "\n",
        "    generation=generation+1\n",
        "    \n",
        "    print(\"generation : \",generation)\n",
        "\n",
        "# print solution\n",
        "for (q,p) in position_with_score:\n",
        "    if p==0:\n",
        "        print(\"the solution is\")\n",
        "        \n",
        "        print(q)\n",
        "        \n",
        "        print(\"Found at generation\",generation)\n",
        "\n",
        "# plot graph\n",
        "\n",
        "fig, axes = plt.subplots(figsize=(15, 6))\n",
        "axes.plot([ x for x in range(generation)],average_fittness_of_a_population, label=\"Average\")\n",
        "axes.plot(best, label=\"Best\")\n",
        "axes.set_title('Generation Vs Average Fitness & best Fitness ')\n",
        "axes.set_xlabel('Generation')\n",
        "axes.set_ylabel('Fitness')\n",
        "axes.legend()\n"
      ],
      "metadata": {
        "colab": {
          "base_uri": "https://localhost:8080/",
          "height": 803
        },
        "id": "QOIGynkfecvX",
        "outputId": "200373e9-c3d6-46d1-f915-db570d16cd9a"
      },
      "execution_count": 5,
      "outputs": [
        {
          "output_type": "stream",
          "name": "stdout",
          "text": [
            "generation :  1\n",
            "generation :  2\n",
            "generation :  3\n",
            "generation :  4\n",
            "generation :  5\n",
            "generation :  6\n",
            "generation :  7\n",
            "generation :  8\n",
            "generation :  9\n",
            "generation :  10\n",
            "generation :  11\n",
            "generation :  12\n",
            "generation :  13\n",
            "generation :  14\n",
            "generation :  15\n",
            "generation :  16\n",
            "generation :  17\n",
            "generation :  18\n",
            "the solution is\n",
            "[4, 2, 0, 6, 1, 7, 5, 3]\n",
            "Found at generation 18\n"
          ]
        },
        {
          "output_type": "execute_result",
          "data": {
            "text/plain": [
              "<matplotlib.legend.Legend at 0x7faf96e60dd0>"
            ]
          },
          "metadata": {},
          "execution_count": 5
        },
        {
          "output_type": "display_data",
          "data": {
            "image/png": "[encoded data removed]",
            "text/plain": [
              "<Figure size 1080x432 with 1 Axes>"
            ]
          },
          "metadata": {
            "needs_background": "light"
          }
        }
      ]
    }
  ]
}