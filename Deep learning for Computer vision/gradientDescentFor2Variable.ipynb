{
  "nbformat": 4,
  "nbformat_minor": 0,
  "metadata": {
    "colab": {
      "name": "gradientDescentFor2Variable.ipynb",
      "provenance": [],
      "collapsed_sections": []
    },
    "kernelspec": {
      "name": "python3",
      "display_name": "Python 3"
    },
    "language_info": {
      "name": "python"
    }
  },
  "cells": [
    {
      "cell_type": "code",
      "execution_count": null,
      "metadata": {
        "id": "pEJy_agLXfv5"
      },
      "outputs": [],
      "source": [
        "from cv2 import sqrt\n",
        "import numpy as np\n",
        "from sympy import symbols,diff"
      ]
    },
    {
      "cell_type": "code",
      "source": [
        "x,y=symbols('x y',real=True)\n",
        "f=eval(input(\"Enter the function :\"))"
      ],
      "metadata": {
        "id": "EbsABAPOjREY",
        "colab": {
          "base_uri": "https://localhost:8080/"
        },
        "outputId": "663bae31-b8f9-40e2-d0d6-70d25e85ba2b"
      },
      "execution_count": null,
      "outputs": [
        {
          "name": "stdout",
          "output_type": "stream",
          "text": [
            "Enter the function :4*x**2-4*x*y+2*y**2\n"
          ]
        }
      ]
    },
    {
      "cell_type": "code",
      "source": [
        "weight=list(input(\"Enter initial weight :\").split())"
      ],
      "metadata": {
        "id": "WUAKT2YOmfiN",
        "colab": {
          "base_uri": "https://localhost:8080/"
        },
        "outputId": "4dd014a5-830e-4077-c5de-62d1e2cd31e4"
      },
      "execution_count": null,
      "outputs": [
        {
          "name": "stdout",
          "output_type": "stream",
          "text": [
            "Enter initial weight :2 3\n"
          ]
        }
      ]
    },
    {
      "cell_type": "code",
      "source": [
        "weight=list(map(float,weight))"
      ],
      "metadata": {
        "id": "Meqoxv2QtMVC"
      },
      "execution_count": null,
      "outputs": []
    },
    {
      "cell_type": "code",
      "source": [
        "error_val=float(input(\"Enter error value :\"))\n",
        "learning_rate=float(input(\"Enter learning rate:\"))"
      ],
      "metadata": {
        "id": "VoG_RAD7o-DM",
        "colab": {
          "base_uri": "https://localhost:8080/"
        },
        "outputId": "abcbd778-77c9-4e6e-823a-736e0b192992"
      },
      "execution_count": null,
      "outputs": [
        {
          "name": "stdout",
          "output_type": "stream",
          "text": [
            "Enter error value :1\n",
            "Enter learning rate:0.1\n"
          ]
        }
      ]
    },
    {
      "cell_type": "code",
      "source": [
        "\n",
        "dx=diff(f,x)\n",
        "dy=diff(f,y)\n",
        "grad= [dx,dy]"
      ],
      "metadata": {
        "id": "M4K-pe1RXqlh"
      },
      "execution_count": null,
      "outputs": []
    },
    {
      "cell_type": "code",
      "source": [
        "def get_grad(weight,grad):\n",
        "\tx=weight[0]\n",
        "\ty=weight[1]\n",
        "\n",
        "\tgrad_x=eval(str(grad[0]))\n",
        "\tgrad_y=eval(str(grad[1]))\n",
        "\n",
        "\tgrad=[float(grad_x),float(grad_y)]\n",
        "\n",
        "\tprint(\"grad\",grad)\n",
        "\t\n",
        "\tmag= ((grad_x**2)+(grad_y**2))**0.5\n",
        "\tprint(\"mag\",mag)\n",
        "\n",
        "\treturn grad,mag"
      ],
      "metadata": {
        "id": "vmY5iawJXwcZ"
      },
      "execution_count": null,
      "outputs": []
    },
    {
      "cell_type": "code",
      "source": [
        "while(True):\n",
        "\tprint(\"weight\",weight)\n",
        "\tgradient,mag=get_grad(weight,grad)\n",
        " \n",
        "\twhile mag >= error_val:\n",
        "\t\tw1=[x1 - x2 for (x1, x2) in zip(weight, [i*learning_rate for i in gradient])]\n",
        "\t\tprint(\"weight\",w1)\n",
        "\t\tgradient,mag=  get_grad(w1,grad)\n",
        "\t\tweight=w1\n",
        "\tbreak\n",
        "\t"
      ],
      "metadata": {
        "id": "OsM_TZRxXwFA",
        "colab": {
          "base_uri": "https://localhost:8080/"
        },
        "outputId": "cffa2ed5-3bac-4562-f58a-dc2f3e72bf69"
      },
      "execution_count": null,
      "outputs": [
        {
          "output_type": "stream",
          "name": "stdout",
          "text": [
            "weight [2.0, 3.0]\n",
            "grad [4.0, 4.0]\n",
            "mag 5.656854249492381\n",
            "weight [1.6, 2.6]\n",
            "grad [2.4000000000000004, 4.0]\n",
            "mag 4.664761515876241\n",
            "weight [1.36, 2.2]\n",
            "grad [2.08, 3.3600000000000003]\n",
            "mag 3.9517084912731106\n",
            "weight [1.1520000000000001, 1.864]\n",
            "grad [1.7600000000000007, 2.848]\n",
            "mag 3.347940262310545\n",
            "weight [0.9760000000000001, 1.5792000000000002]\n",
            "grad [1.4912, 2.4128000000000003]\n",
            "mag 2.836420504791206\n",
            "weight [0.8268800000000001, 1.33792]\n",
            "grad [1.2633600000000005, 2.0441599999999998]\n",
            "mag 2.4030540142077537\n",
            "weight [0.7005440000000001, 1.133504]\n",
            "grad [1.0703360000000002, 1.73184]\n",
            "mag 2.035900031557542\n",
            "weight [0.5935104, 0.9603200000000001]\n",
            "grad [0.9068031999999997, 1.4672384000000003]\n",
            "mag 1.7248421858143428\n",
            "weight [0.5028300800000001, 0.81359616]\n",
            "grad [0.7682560000000005, 1.2430643199999998]\n",
            "mag 1.461309749913776\n",
            "weight [0.42600448, 0.689289728]\n",
            "grad [0.6508769280000002, 1.0531409919999999]\n",
            "mag 1.2380414873635945\n",
            "weight [0.3609167872, 0.5839756288]\n",
            "grad [0.5514317823999999, 0.8922353664]\n",
            "mag 1.0488855798874266\n",
            "weight [0.30577360896, 0.49475209216]\n",
            "grad [0.46718050304000003, 0.7559139328]\n",
            "mag 0.888630123404485\n"
          ]
        }
      ]
    },
    {
      "cell_type": "code",
      "source": [
        "print(\"final\",weight)"
      ],
      "metadata": {
        "id": "FDJOAV8pXv3N",
        "colab": {
          "base_uri": "https://localhost:8080/"
        },
        "outputId": "46a004b8-7544-42e6-8750-026f81061975"
      },
      "execution_count": null,
      "outputs": [
        {
          "output_type": "stream",
          "name": "stdout",
          "text": [
            "final [0.30577360896, 0.49475209216]\n"
          ]
        }
      ]
    }
  ]
}